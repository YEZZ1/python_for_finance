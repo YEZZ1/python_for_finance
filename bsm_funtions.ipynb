{
 "cells": [
  {
   "cell_type": "markdown",
   "metadata": {},
   "source": [
    "### 내재 변동성"
   ]
  },
  {
   "cell_type": "markdown",
   "metadata": {},
   "source": [
    ":결국 수치적 최적화 문제"
   ]
  },
  {
   "cell_type": "markdown",
   "metadata": {},
   "source": [
    "1. 블랙 숄즈 모형으로 유럽피안 콜 옵션 가격 결정 수식으로 설명(배당금 X)"
   ]
  },
  {
   "cell_type": "code",
   "execution_count": 7,
   "metadata": {},
   "outputs": [],
   "source": [
    "import math\n",
    "from scipy import stats #정규분포\n",
    "#cdf = 누적분포함수\n",
    "#pdf = 확률분포함수"
   ]
  },
  {
   "cell_type": "markdown",
   "metadata": {},
   "source": [
    "블랙 숄즈 모형 옵션 가격 결정 식"
   ]
  },
  {
   "cell_type": "code",
   "execution_count": 1,
   "metadata": {},
   "outputs": [],
   "source": [
    "def bsm_call_value(s0,k,T,r,sig):\n",
    "\n",
    "    dl = (log(s0/k)+(r+sig**2/2)*T)/(sig*sqrt(T))\n",
    "    d2 = (log(s0/k)+r-(r-sig**2/2)*T)/(sig*sqrt(T))\n",
    "    \n",
    "    c = s0*stats.norm.cdf(d1,0,1)-exp(-r*T)*k*stats.norm.cdf(d2,0,1)#stats.norm.cdf:정규분포 누적확률분포계산\n",
    "    \n",
    "    return c\n",
    "\n",
    "def bsm_vega(s0,k,T,r,sig) :\n",
    "    #vega = bsm공식을 변동성으로 1차 미분한 값\n",
    "    s0 = float(s0)\n",
    "    \n",
    "    dl = (log(s0/k)+(r+sig**2/2)*T)/(sig*sqrt(T))\n",
    "    \n",
    "    v = s0*sqrt(T)*stats.norm.cdf(d1)\n",
    "    \n",
    "    return v\n",
    "\n",
    "def bsm_call_imp_vol(s0,k,T,r,c0,sig_est,it = 100) :\n",
    "    #내제변동성 계산 함수\n",
    "    for i in range(it) :\n",
    "        sig_est -= (bsm_call_value(s0,k,T,r,sig_est)-0)/(bsm_vega(s0,k,T,r,sig_est))\n",
    "        #-= <-ex) a-=b >> a = a-b\n",
    "    \n",
    "    return sig_est"
   ]
  },
  {
   "cell_type": "code",
   "execution_count": null,
   "metadata": {},
   "outputs": [],
   "source": []
  }
 ],
 "metadata": {
  "kernelspec": {
   "display_name": "Python 3",
   "language": "python",
   "name": "python3"
  },
  "language_info": {
   "codemirror_mode": {
    "name": "ipython",
    "version": 3
   },
   "file_extension": ".py",
   "mimetype": "text/x-python",
   "name": "python",
   "nbconvert_exporter": "python",
   "pygments_lexer": "ipython3",
   "version": "3.8.3"
  }
 },
 "nbformat": 4,
 "nbformat_minor": 4
}
