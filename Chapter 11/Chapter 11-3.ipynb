{
 "cells": [
  {
   "cell_type": "markdown",
   "metadata": {},
   "source": [
    "## 주성분 분석"
   ]
  },
  {
   "cell_type": "markdown",
   "metadata": {},
   "source": [
    "> 즉, PCA(principal component analysis)로 통계 데이터 분석(주성분 찾기), 데이터 압축(차원감소), 노이즈 제거 등 다양하게 활용함\\\n",
    "orthogonal transformation(직교변환) 사용해 상관관계 가지는 관측값 변수들의 집합을 주성분의 집합으로 바꾸는 통계적 절차\\\n",
    "PCA = othogonal Progection of X onto the set of uncorrelated vectors => eigendecomposition of $ X^TX $\\\n",
    "==========\\\n",
    "C: covariance matrix\\\n",
    "v : variance of data\\\n",
    "Maximize $V^TCV$\\\n",
    "subject to $\\left \\| V \\right \\|_2 = 1$"
   ]
  },
  {
   "cell_type": "markdown",
   "metadata": {},
   "source": [
    "독일 DAX지수 사용(30가지 주식으로 구성)"
   ]
  },
  {
   "cell_type": "code",
   "execution_count": 1,
   "metadata": {},
   "outputs": [],
   "source": [
    "import numpy as np\n",
    "import pandas as pd\n",
    "from pandas_datareader import data as web\n",
    "import yfinance as yf\n",
    "yf.pdr_override()\n",
    "from sklearn.decomposition import KernelPCA\n",
    "import datetime"
   ]
  },
  {
   "cell_type": "markdown",
   "metadata": {},
   "source": [
    "### 11-3-1 DAX지수와 30개 구성 종목"
   ]
  },
  {
   "cell_type": "code",
   "execution_count": 2,
   "metadata": {},
   "outputs": [],
   "source": [
    "symbols = ['MUV2.DE', 'DB1.DE', 'ADS.DE', 'DBK.DE', 'SAP.DE',\n",
    "           'DWNI.DE', 'MTX.DE', 'BMW.DE', 'DTE.DE', 'ALV.DE',\n",
    "           'BAS.DE', 'RWE.DE', 'LIN.DE', 'MRK.DE', 'DPW.DE',\n",
    "           'FRE.DE', 'FME.DE', 'SIE.DE', 'VOW3.DE', 'IFX.DE',\n",
    "           'HEI.DE', 'DAI.DE', 'DHER.DE', 'ENR.DE', 'EOAN.DE',\n",
    "           'BAYN.DE', 'CON.DE', '^GDAXI']"
   ]
  },
  {
   "cell_type": "code",
   "execution_count": 3,
   "metadata": {},
   "outputs": [
    {
     "name": "stdout",
     "output_type": "stream",
     "text": [
      "[*********************100%***********************]  1 of 1 completed\n",
      "\n",
      "1 Failed download:\n",
      "- ETR:ADS: No data found, symbol may be delisted\n",
      "[*********************100%***********************]  1 of 1 completed\n",
      "\n",
      "1 Failed download:\n",
      "- ETR:ALV: No data found, symbol may be delisted\n",
      "[*********************100%***********************]  1 of 1 completed\n",
      "\n",
      "1 Failed download:\n",
      "- ETR:BAS: No data found, symbol may be delisted\n",
      "[*********************100%***********************]  1 of 1 completed\n",
      "\n",
      "1 Failed download:\n",
      "- ETR:BAYN: No data found, symbol may be delisted\n",
      "[*********************100%***********************]  1 of 1 completed\n",
      "\n",
      "1 Failed download:\n",
      "- ETR:BEI: No data found, symbol may be delisted\n",
      "[*********************100%***********************]  1 of 1 completed\n",
      "\n",
      "1 Failed download:\n",
      "- ETR:BMW: No data found, symbol may be delisted\n",
      "[*********************100%***********************]  1 of 1 completed\n",
      "\n",
      "1 Failed download:\n",
      "- ETR:CBK: No data found, symbol may be delisted\n",
      "[*********************100%***********************]  1 of 1 completed\n",
      "\n",
      "1 Failed download:\n",
      "- ETR:CON: No data found, symbol may be delisted\n",
      "[*********************100%***********************]  1 of 1 completed\n",
      "\n",
      "1 Failed download:\n",
      "- ETR:DAI: No data found, symbol may be delisted\n",
      "[*********************100%***********************]  1 of 1 completed\n",
      "\n",
      "1 Failed download:\n",
      "- ETR:DB1: No data found, symbol may be delisted\n",
      "[*********************100%***********************]  1 of 1 completed\n",
      "\n",
      "1 Failed download:\n",
      "- ETR:DBK: No data found, symbol may be delisted\n",
      "[*********************100%***********************]  1 of 1 completed\n",
      "\n",
      "1 Failed download:\n",
      "- ETR:DPW: No data found, symbol may be delisted\n",
      "[*********************100%***********************]  1 of 1 completed\n",
      "\n",
      "1 Failed download:\n",
      "- ETR:DTE: No data found, symbol may be delisted\n",
      "[*********************100%***********************]  1 of 1 completed\n",
      "\n",
      "1 Failed download:\n",
      "- ETR:EOAN: No data found, symbol may be delisted\n",
      "[*********************100%***********************]  1 of 1 completed\n",
      "\n",
      "1 Failed download:\n",
      "- ETR:FME: No data found, symbol may be delisted\n",
      "[*********************100%***********************]  1 of 1 completed\n",
      "\n",
      "1 Failed download:\n",
      "- ETR:FRE: No data found, symbol may be delisted\n",
      "[*********************100%***********************]  1 of 1 completed\n",
      "\n",
      "1 Failed download:\n",
      "- ETR:HEI: No data found, symbol may be delisted\n",
      "[*********************100%***********************]  1 of 1 completed\n",
      "\n",
      "1 Failed download:\n",
      "- ETR:HEN3: No data found, symbol may be delisted\n",
      "[*********************100%***********************]  1 of 1 completed\n",
      "\n",
      "1 Failed download:\n",
      "- ETR:IFX: No data found, symbol may be delisted\n",
      "[*********************100%***********************]  1 of 1 completed\n",
      "\n",
      "1 Failed download:\n",
      "- ETR:LHA: No data found, symbol may be delisted\n",
      "[*********************100%***********************]  1 of 1 completed\n",
      "\n",
      "1 Failed download:\n",
      "- ETR:LIN: No data found, symbol may be delisted\n",
      "[*********************100%***********************]  1 of 1 completed\n",
      "\n",
      "1 Failed download:\n",
      "- ETR:LXS: No data found, symbol may be delisted\n",
      "[*********************100%***********************]  1 of 1 completed\n",
      "\n",
      "1 Failed download:\n",
      "- ETR:MRK: No data found, symbol may be delisted\n",
      "[*********************100%***********************]  1 of 1 completed\n",
      "\n",
      "1 Failed download:\n",
      "- ETR:MUV2: No data found, symbol may be delisted\n",
      "[*********************100%***********************]  1 of 1 completed\n",
      "\n",
      "1 Failed download:\n",
      "- ETR:RWE: No data found, symbol may be delisted\n",
      "[*********************100%***********************]  1 of 1 completed\n",
      "\n",
      "1 Failed download:\n",
      "- ETR:SAP: No data found, symbol may be delisted\n",
      "[*********************100%***********************]  1 of 1 completed\n",
      "\n",
      "1 Failed download:\n",
      "- ETR:SDF: No data found, symbol may be delisted\n",
      "[*********************100%***********************]  1 of 1 completed\n",
      "\n",
      "1 Failed download:\n",
      "- ETR:SIE: No data found, symbol may be delisted\n",
      "[*********************100%***********************]  1 of 1 completed\n",
      "\n",
      "1 Failed download:\n",
      "- ETR:TKA: No data found, symbol may be delisted\n",
      "[*********************100%***********************]  1 of 1 completed\n",
      "\n",
      "1 Failed download:\n",
      "- ETR:VOW3: No data found, symbol may be delisted\n"
     ]
    }
   ],
   "source": [
    "data = pd.DataFrame()\n",
    "for sym in symbols:\n",
    "    data[sym] = web.get_data_yahoo(sym,data_source ='yahoo')['Adj Close']\n",
    "data = data.dropna()"
   ]
  },
  {
   "cell_type": "code",
   "execution_count": 17,
   "metadata": {},
   "outputs": [],
   "source": [
    "dax = pd.DataFrame(data.pop('^GDAXI'))"
   ]
  },
  {
   "cell_type": "code",
   "execution_count": 18,
   "metadata": {
    "scrolled": true
   },
   "outputs": [
    {
     "data": {
      "text/html": [
       "<div>\n",
       "<style scoped>\n",
       "    .dataframe tbody tr th:only-of-type {\n",
       "        vertical-align: middle;\n",
       "    }\n",
       "\n",
       "    .dataframe tbody tr th {\n",
       "        vertical-align: top;\n",
       "    }\n",
       "\n",
       "    .dataframe thead th {\n",
       "        text-align: right;\n",
       "    }\n",
       "</style>\n",
       "<table border=\"1\" class=\"dataframe\">\n",
       "  <thead>\n",
       "    <tr style=\"text-align: right;\">\n",
       "      <th></th>\n",
       "      <th>MUV2.DE</th>\n",
       "      <th>DB1.DE</th>\n",
       "      <th>ADS.DE</th>\n",
       "      <th>DBK.DE</th>\n",
       "      <th>SAP.DE</th>\n",
       "      <th>DWNI.DE</th>\n",
       "    </tr>\n",
       "    <tr>\n",
       "      <th>Date</th>\n",
       "      <th></th>\n",
       "      <th></th>\n",
       "      <th></th>\n",
       "      <th></th>\n",
       "      <th></th>\n",
       "      <th></th>\n",
       "    </tr>\n",
       "  </thead>\n",
       "  <tbody>\n",
       "    <tr>\n",
       "      <th>2020-09-29</th>\n",
       "      <td>218.100006</td>\n",
       "      <td>151.199997</td>\n",
       "      <td>281.200012</td>\n",
       "      <td>7.074</td>\n",
       "      <td>134.160004</td>\n",
       "      <td>42.410000</td>\n",
       "    </tr>\n",
       "    <tr>\n",
       "      <th>2020-09-30</th>\n",
       "      <td>216.600006</td>\n",
       "      <td>149.800003</td>\n",
       "      <td>276.100006</td>\n",
       "      <td>7.190</td>\n",
       "      <td>132.759995</td>\n",
       "      <td>42.689999</td>\n",
       "    </tr>\n",
       "    <tr>\n",
       "      <th>2020-10-01</th>\n",
       "      <td>215.600006</td>\n",
       "      <td>148.199997</td>\n",
       "      <td>278.899994</td>\n",
       "      <td>7.100</td>\n",
       "      <td>133.740005</td>\n",
       "      <td>43.230000</td>\n",
       "    </tr>\n",
       "    <tr>\n",
       "      <th>2020-10-02</th>\n",
       "      <td>216.199997</td>\n",
       "      <td>148.350006</td>\n",
       "      <td>276.899994</td>\n",
       "      <td>7.196</td>\n",
       "      <td>132.759995</td>\n",
       "      <td>43.680000</td>\n",
       "    </tr>\n",
       "    <tr>\n",
       "      <th>2020-10-05</th>\n",
       "      <td>221.899994</td>\n",
       "      <td>149.000000</td>\n",
       "      <td>273.500000</td>\n",
       "      <td>7.360</td>\n",
       "      <td>132.399994</td>\n",
       "      <td>44.060001</td>\n",
       "    </tr>\n",
       "  </tbody>\n",
       "</table>\n",
       "</div>"
      ],
      "text/plain": [
       "               MUV2.DE      DB1.DE      ADS.DE  DBK.DE      SAP.DE    DWNI.DE\n",
       "Date                                                                         \n",
       "2020-09-29  218.100006  151.199997  281.200012   7.074  134.160004  42.410000\n",
       "2020-09-30  216.600006  149.800003  276.100006   7.190  132.759995  42.689999\n",
       "2020-10-01  215.600006  148.199997  278.899994   7.100  133.740005  43.230000\n",
       "2020-10-02  216.199997  148.350006  276.899994   7.196  132.759995  43.680000\n",
       "2020-10-05  221.899994  149.000000  273.500000   7.360  132.399994  44.060001"
      ]
     },
     "execution_count": 18,
     "metadata": {},
     "output_type": "execute_result"
    }
   ],
   "source": [
    "data[data.columns[:6]].head()"
   ]
  },
  {
   "cell_type": "markdown",
   "metadata": {},
   "source": [
    "### 11-3-2 주성분 분석 작용"
   ]
  },
  {
   "cell_type": "code",
   "execution_count": 19,
   "metadata": {},
   "outputs": [],
   "source": [
    "scale_function = lambda x : (x-x.mean())/x.std()  #정규화 보조함수 "
   ]
  },
  {
   "cell_type": "code",
   "execution_count": 20,
   "metadata": {},
   "outputs": [],
   "source": [
    "pca = KernelPCA().fit(data.apply(scale_function))  #복수의 주성분을 가지는 분석 고려"
   ]
  },
  {
   "cell_type": "code",
   "execution_count": 21,
   "metadata": {},
   "outputs": [
    {
     "data": {
      "text/plain": [
       "27"
      ]
     },
     "execution_count": 21,
     "metadata": {},
     "output_type": "execute_result"
    }
   ],
   "source": [
    "#eigenvalue로 결정됨\n",
    "len(pca.lambdas_) #너무 많음"
   ]
  },
  {
   "cell_type": "code",
   "execution_count": 22,
   "metadata": {},
   "outputs": [
    {
     "data": {
      "text/plain": [
       "array([2060.,  649.,  296.,  227.,  198.,  133.,   70.,   49.,   33.,\n",
       "         22.])"
      ]
     },
     "execution_count": 22,
     "metadata": {},
     "output_type": "execute_result"
    }
   ],
   "source": [
    "pca.lambdas_[:10].round() #10개만 살펴보기"
   ]
  },
  {
   "cell_type": "code",
   "execution_count": 23,
   "metadata": {},
   "outputs": [
    {
     "data": {
      "text/plain": [
       "array([0.5372892 , 0.16918455, 0.07708399, 0.05908601, 0.05159931,\n",
       "       0.03469151, 0.01821263, 0.01279326, 0.00862481, 0.00571494])"
      ]
     },
     "execution_count": 23,
     "metadata": {},
     "output_type": "execute_result"
    }
   ],
   "source": [
    "#정규화\n",
    "get_we = lambda x : x/x.sum()\n",
    "get_we(pca.lambdas_)[:10]"
   ]
  },
  {
   "cell_type": "code",
   "execution_count": 24,
   "metadata": {},
   "outputs": [
    {
     "data": {
      "text/plain": [
       "0.8942430695010125"
      ]
     },
     "execution_count": 24,
     "metadata": {},
     "output_type": "execute_result"
    }
   ],
   "source": [
    "get_we(pca.lambdas_)[:5].sum()#앞의 5개의 주성분만으로 시계열 변동의 90퍼를 설명 가능"
   ]
  },
  {
   "cell_type": "markdown",
   "metadata": {},
   "source": [
    "### 11-3-3 주성분 지수 구성"
   ]
  },
  {
   "cell_type": "code",
   "execution_count": 25,
   "metadata": {},
   "outputs": [],
   "source": [
    "#원래 지수와 비교\n",
    "pca = KernelPCA(n_components=1).fit(data.apply(scale_function)) \n",
    "dax['PCA.1'] = pca.transform(-data) #주성분 하나만 가지는 주성분 지수 "
   ]
  },
  {
   "cell_type": "code",
   "execution_count": 26,
   "metadata": {},
   "outputs": [
    {
     "data": {
      "text/plain": [
       "<AxesSubplot:xlabel='Date'>"
      ]
     },
     "execution_count": 26,
     "metadata": {},
     "output_type": "execute_result"
    },
    {
     "data": {
      "image/png": "[encoded data removed]",
      "text/plain": [
       "<Figure size 576x216 with 1 Axes>"
      ]
     },
     "metadata": {
      "needs_background": "light"
     },
     "output_type": "display_data"
    }
   ],
   "source": [
    "import matplotlib.pyplot as plt\n",
    "%matplotlib inline\n",
    "dax.apply(scale_function).plot(figsize = (8,3))"
   ]
  },
  {
   "cell_type": "code",
   "execution_count": 27,
   "metadata": {},
   "outputs": [],
   "source": [
    "#주성분 개수 증가\n",
    "pca = KernelPCA(n_components=5).fit(data.apply(scale_function))\n",
    "pca_components = pca.transform(-data)\n",
    "weights = get_we(pca.lambdas_)\n",
    "dax['PCA.5'] = np.dot(pca_components,weights) #주성분 하나만 가지는 주성분 지수 "
   ]
  },
  {
   "cell_type": "code",
   "execution_count": 28,
   "metadata": {},
   "outputs": [
    {
     "data": {
      "text/plain": [
       "<AxesSubplot:xlabel='Date'>"
      ]
     },
     "execution_count": 28,
     "metadata": {},
     "output_type": "execute_result"
    },
    {
     "data": {
      "image/png": "[encoded data removed]",
      "text/plain": [
       "<Figure size 576x288 with 1 Axes>"
      ]
     },
     "metadata": {
      "needs_background": "light"
     },
     "output_type": "display_data"
    }
   ],
   "source": [
    "dax.apply(scale_function).plot(figsize = (8,4)) #썩 좋아지지는 않음"
   ]
  },
  {
   "cell_type": "code",
   "execution_count": 29,
   "metadata": {},
   "outputs": [
    {
     "data": {
      "text/plain": [
       "array([18534., 18535., 18536., 18537., 18540., 18541., 18542., 18543.,\n",
       "       18544., 18547., 18548., 18549., 18550., 18551., 18554., 18555.,\n",
       "       18556., 18557., 18558., 18561., 18562., 18563., 18564., 18565.,\n",
       "       18568., 18569., 18570., 18571., 18572., 18575., 18576., 18577.,\n",
       "       18578., 18579., 18582., 18583., 18584., 18585., 18586., 18589.,\n",
       "       18590., 18591., 18592., 18593., 18596., 18597., 18598., 18599.,\n",
       "       18600., 18603., 18604., 18605., 18606., 18607., 18610., 18611.,\n",
       "       18612., 18613., 18614., 18617., 18618., 18619., 18624., 18625.,\n",
       "       18626., 18631., 18632., 18633., 18634., 18635., 18638., 18639.,\n",
       "       18640., 18641., 18642., 18645., 18646., 18647., 18648., 18649.,\n",
       "       18652., 18653., 18654., 18655., 18656., 18659., 18660., 18661.,\n",
       "       18662., 18663., 18666., 18667., 18668., 18669., 18670., 18673.,\n",
       "       18674., 18675., 18676., 18677., 18680., 18681., 18682., 18683.,\n",
       "       18684., 18687., 18688., 18689., 18690., 18691., 18694., 18695.,\n",
       "       18696., 18697., 18698., 18701., 18702., 18703., 18704., 18705.,\n",
       "       18708., 18709., 18710., 18711., 18712., 18715., 18716., 18717.,\n",
       "       18718., 18723., 18724., 18725., 18726., 18729., 18730., 18731.,\n",
       "       18732., 18733., 18736., 18737., 18738., 18739., 18740.])"
      ]
     },
     "execution_count": 29,
     "metadata": {},
     "output_type": "execute_result"
    }
   ],
   "source": [
    "#날짜정보 추가\n",
    "import matplotlib as mpl\n",
    "mpl_dates = mpl.dates.date2num(data.index) #matplotlib에 호환되는 형식\n",
    "mpl_dates #scatter 플롯 작성시 사용"
   ]
  },
  {
   "cell_type": "code",
   "execution_count": 30,
   "metadata": {},
   "outputs": [
    {
     "data": {
      "text/plain": [
       "<matplotlib.colorbar.Colorbar at 0x20803400a90>"
      ]
     },
     "execution_count": 30,
     "metadata": {},
     "output_type": "execute_result"
    },
    {
     "data": {
      "image/png": "[encoded data removed]",
      "text/plain": [
       "<Figure size 576x288 with 2 Axes>"
      ]
     },
     "metadata": {
      "needs_background": "light"
     },
     "output_type": "display_data"
    }
   ],
   "source": [
    "plt.figure(figsize = (8,4))\n",
    "plt.scatter(dax['PCA.5'],dax['^GDAXI'],c=mpl_dates)\n",
    "lin_reg = np.polyval(np.polyfit(dax['PCA.5'],\n",
    "                               dax['^GDAXI'],1),\n",
    "                    dax['PCA.5'])\n",
    "plt.plot(dax['PCA.5'],lin_reg,'r',lw=3)\n",
    "plt.grid(True)\n",
    "plt.xlabel('PCA.5')\n",
    "plt.ylabel('TGDAXI')\n",
    "plt.colorbar(ticks = mpl.dates.DayLocator(interval = 250),\n",
    "            format = mpl.dates.DateFormatter('%d %b %y')) #왜 날짜 하나만 나오지??????????????????"
   ]
  },
  {
   "cell_type": "code",
   "execution_count": 31,
   "metadata": {},
   "outputs": [],
   "source": [
    "#시간 구간 두개로 나누기\n",
    "cut_date = '2021-04-09'\n",
    "early_pca = dax[dax.index < cut_date]['PCA.5']\n",
    "early_reg = np.polyval(np.polyfit(early_pca,\n",
    "                                 dax['^GDAXI'][dax.index < cut_date],1),\n",
    "                      early_pca)"
   ]
  },
  {
   "cell_type": "code",
   "execution_count": 32,
   "metadata": {},
   "outputs": [],
   "source": [
    "late_pca = dax[dax.index >= cut_date]['PCA.5']\n",
    "late_reg = np.polyval(np.polyfit(late_pca,\n",
    "                                dax['^GDAXI'][dax.index >= cut_date],1),\n",
    "                     late_pca)"
   ]
  },
  {
   "cell_type": "code",
   "execution_count": 33,
   "metadata": {},
   "outputs": [
    {
     "data": {
      "text/plain": [
       "<matplotlib.colorbar.Colorbar at 0x208034be820>"
      ]
     },
     "execution_count": 33,
     "metadata": {},
     "output_type": "execute_result"
    },
    {
     "data": {
      "image/png": "[encoded data removed]",
      "text/plain": [
       "<Figure size 576x288 with 2 Axes>"
      ]
     },
     "metadata": {
      "needs_background": "light"
     },
     "output_type": "display_data"
    }
   ],
   "source": [
    "plt.figure(figsize = (8,4))\n",
    "plt.scatter(dax['PCA.5'],dax['^GDAXI'],c = mpl_dates)\n",
    "plt.plot(early_pca,early_reg,'r',lw = 3)\n",
    "plt.plot(late_pca,late_reg,'r',lw = 3)\n",
    "plt.grid(True)\n",
    "plt.xlabel('PCA.5')\n",
    "plt.ylabel('^GDAXI')\n",
    "plt.colorbar(ticks =mpl.dates.DayLocator(interval=250),\n",
    "            format = mpl.dates.DateFormatter('%d %b %y'))\n"
   ]
  },
  {
   "cell_type": "code",
   "execution_count": null,
   "metadata": {},
   "outputs": [],
   "source": []
  },
  {
   "cell_type": "code",
   "execution_count": null,
   "metadata": {},
   "outputs": [],
   "source": []
  }
 ],
 "metadata": {
  "kernelspec": {
   "display_name": "Python 3",
   "language": "python",
   "name": "python3"
  },
  "language_info": {
   "codemirror_mode": {
    "name": "ipython",
    "version": 3
   },
   "file_extension": ".py",
   "mimetype": "text/x-python",
   "name": "python",
   "nbconvert_exporter": "python",
   "pygments_lexer": "ipython3",
   "version": "3.8.3"
  }
 },
 "nbformat": 4,
 "nbformat_minor": 4
}
