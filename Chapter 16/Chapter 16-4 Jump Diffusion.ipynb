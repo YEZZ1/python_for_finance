{
 "cells": [
  {
   "cell_type": "markdown",
   "metadata": {},
   "source": [
    "### 점프 확산 모형 "
   ]
  },
  {
   "cell_type": "markdown",
   "metadata": {},
   "source": [
    "10장에서 첯럼 오일러 이산화를 해야 한다. 수식 확인은 10장에서! "
   ]
  },
  {
   "cell_type": "code",
   "execution_count": 20,
   "metadata": {},
   "outputs": [],
   "source": [
    "#\n",
    "# DX Library Simulation\n",
    "# jump_diffusion.py\n",
    "#\n",
    "\n",
    "import numpy as np\n",
    "import pandas as pd\n",
    "\n",
    "from sn_random_numbers import sn_random_numbers\n",
    "from simulation_class import simulation_class\n",
    "\n",
    "class jump_diffusion(simulation_class):\n",
    "    '''\n",
    "    점프 확산 모형에 따른 시뮬레이션 경로 생성\n",
    "    \n",
    "    속성\n",
    "    ----\n",
    "    name : string\n",
    "        객체 이름\n",
    "    mar_env : instance of market_environment\n",
    "        시뮬레이션에 필요한 시장 환경\n",
    "    corr : Boolean\n",
    "        상관관계 있으면 True\n",
    "    \n",
    "    method\n",
    "    ----\n",
    "    update : \n",
    "        파라미터 갱신\n",
    "    generate_paths :\n",
    "        주어진 시장환경에 따른 몬테카를로 경로 변환\n",
    "    '''\n",
    "    \n",
    "    def __init__(self,name,mar_env,corr=False):\n",
    "        super(jump_diffusion,self).__init__(name,mar_env,corr)\n",
    "        try:\n",
    "            #추가 파라미터 필요\n",
    "            self.lamb = mar_env.get_constant('lambda')\n",
    "            self.mu = mar_env.get_constant('mu')\n",
    "            self.delt = mar_env.get_constant('delta')\n",
    "        except :\n",
    "            print('Error parsing market environment')\n",
    "            \n",
    "    def update(self,initial_value= None, volatility = None, lamb = None,\n",
    "              mu = None, delta = None, final_date = None):\n",
    "        if initial_value is not None:\n",
    "            self.initial_value =initial_valuee\n",
    "        if volatility is not None :\n",
    "            self.volatility = volatility\n",
    "        if lamb is not None : \n",
    "            self.lamb = lamb\n",
    "        if mu is not None:\n",
    "            self.mu = mu\n",
    "        if delta is not None :\n",
    "            self.delt = delta\n",
    "        if final_date is not None :\n",
    "            self.final_date = final_date\n",
    "        self.instrument_values = None\n",
    "\n",
    "    def generate_time_grid(self):\n",
    "        start = self.pricing_date\n",
    "        end = self.final_date\n",
    "            # pandas date_range function\n",
    "            # freq = e.g. 'B' for Business Day,\n",
    "            # 'W' for Weekly, 'M' for Monthly\n",
    "        time_grid = pd.date_range(start=start, end=end,\n",
    "                                  freq=self.frequency).to_pydatetime()\n",
    "        time_grid = list(time_grid)\n",
    "        # enhance time_grid by start, end, and special_dates\n",
    "        if start not in time_grid:\n",
    "            time_grid.insert(0, start)\n",
    "            # insert start date if not in list\n",
    "        if end not in time_grid:\n",
    "            time_grid.append(end)\n",
    "            # insert end date if not in list\n",
    "        if len(self.special_dates) > 0:\n",
    "            # add all special dates\n",
    "            time_grid.extend(self.special_dates)\n",
    "            # delete duplicates\n",
    "            time_grid = list(set(time_grid))\n",
    "            # sort list\n",
    "            time_grid.sort()\n",
    "        self.time_grid = np.array(time_grid)\n",
    "        \n",
    "    def generate_paths(self, fixed_seed = False, day_count = 365.):\n",
    "        if self.time_grid is None:\n",
    "            self.generate_time_grid()\n",
    "        M = len(self.time_grid)\n",
    "        I = self.paths\n",
    "        paths = np.zeros((M,I))\n",
    "        paths[0] = self.initial_value\n",
    "        if self.correlated is False:\n",
    "            sn1 = sn_random_numbers((1,M,I),fixed_seed= fixed_seed)\n",
    "        else :\n",
    "            #상관관계 있을 시\n",
    "            sn1 = self.random_numbers\n",
    "        #표준정규분포 난수생성\n",
    "        sn2 = sn_random_numbers((1,M,I),fixed_seed = fixed_seed)\n",
    "        rj = self.lamb*(np.exp(self.mu + 0.5*self.delt**2)-1)\n",
    "        \n",
    "        short_rate = self.discount_curve.short_rate\n",
    "        for t in range(1,len(self.time_grid)):\n",
    "            if self.correlated is False :\n",
    "                ran = sn1[t]\n",
    "            else:\n",
    "                ran = np.dot(self.cholesky_matrix, sn1[:,t,:])\n",
    "                ran = ran[self.rn_set]\n",
    "            dt = (self.time_grid[t] - self.time_grid[t-1]).days/day_count\n",
    "                #1년 기준 비율 표현\n",
    "            poi = np.random.poisson(self.lamb*dt,I)\n",
    "            paths[t] = paths[t-1]*(np.exp((short_rate-rj -0.5*self.volatility**2)*dt+self.volatility*np.sqrt(dt)*ran)\n",
    "                                  +(np.exp(self.mu+self.delt*sn2[t])-1)*poi)\n",
    "            self.instrument_values = paths"
   ]
  },
  {
   "cell_type": "markdown",
   "metadata": {},
   "source": [
    "**EX**"
   ]
  },
  {
   "cell_type": "code",
   "execution_count": 21,
   "metadata": {},
   "outputs": [],
   "source": [
    "from market_environment import *\n",
    "from dx_frame import *\n",
    "import datetime as dt\n",
    "from geometric_brownian_motion import geometric_brownian_motion"
   ]
  },
  {
   "cell_type": "code",
   "execution_count": 22,
   "metadata": {},
   "outputs": [],
   "source": [
    "me_jd = market_environment('me_jd',dt.datetime(2015,1,1))"
   ]
  },
  {
   "cell_type": "code",
   "execution_count": 23,
   "metadata": {},
   "outputs": [],
   "source": [
    "me_jd.add_constant('lambda',0.3)\n",
    "me_jd.add_constant('mu',-0.75)\n",
    "me_jd.add_constant('delta',0.1)"
   ]
  },
  {
   "cell_type": "code",
   "execution_count": 24,
   "metadata": {},
   "outputs": [],
   "source": [
    "#16-3에서 사용한 me_gbm\n",
    "me_gbm = market_environment('me_gbm',dt.datetime(2015,1,1))\n",
    "\n",
    "me_gbm.add_constant('initial_value', 36.)\n",
    "me_gbm.add_constant('volatility', 0.2)\n",
    "me_gbm.add_constant('final_date', dt.datetime(2015, 12, 31))\n",
    "me_gbm.add_constant('currency', 'EUR')\n",
    "me_gbm.add_constant('frequency', 'M')\n",
    "# monthly frequency (respective month end)\n",
    "me_gbm.add_constant('paths', 10000)\n",
    "\n",
    "csr = constant_short_rate('csr',0.05)\n",
    "\n",
    "me_gbm.add_curve('discount_curve',csr)\n",
    "\n",
    "gbm = geometric_brownian_motion('gbm',me_gbm)"
   ]
  },
  {
   "cell_type": "code",
   "execution_count": 25,
   "metadata": {},
   "outputs": [],
   "source": [
    "me_jd.add_environment(me_gbm)"
   ]
  },
  {
   "cell_type": "code",
   "execution_count": 26,
   "metadata": {},
   "outputs": [],
   "source": [
    "#from jump_diffusion import jump_diffusion\n",
    "jd = jump_diffusion('jd',me_jd)"
   ]
  },
  {
   "cell_type": "code",
   "execution_count": 27,
   "metadata": {},
   "outputs": [
    {
     "name": "stdout",
     "output_type": "stream",
     "text": [
      "Wall time: 32.9 ms\n"
     ]
    }
   ],
   "source": [
    "%time paths_3 = jd.get_instrument_values()"
   ]
  },
  {
   "cell_type": "code",
   "execution_count": 28,
   "metadata": {},
   "outputs": [],
   "source": [
    "jd.update(lamb= 0.9)"
   ]
  },
  {
   "cell_type": "code",
   "execution_count": 29,
   "metadata": {},
   "outputs": [
    {
     "name": "stdout",
     "output_type": "stream",
     "text": [
      "Wall time: 39.9 ms\n"
     ]
    }
   ],
   "source": [
    "%time paths_4 = jd.get_instrument_values()"
   ]
  },
  {
   "cell_type": "code",
   "execution_count": 34,
   "metadata": {},
   "outputs": [],
   "source": [
    "#16-3에서 사용\n",
    "gbm = geometric_brownian_motion('gbm',me_gbm)\n",
    "gbm.generate_time_grid()\n",
    "gbm.update(volatility = 0.5)"
   ]
  },
  {
   "cell_type": "code",
   "execution_count": 35,
   "metadata": {},
   "outputs": [
    {
     "data": {
      "text/plain": [
       "(array([16436., 16495., 16556., 16617., 16679., 16740., 16801.]),\n",
       " [Text(0, 0, ''),\n",
       "  Text(0, 0, ''),\n",
       "  Text(0, 0, ''),\n",
       "  Text(0, 0, ''),\n",
       "  Text(0, 0, ''),\n",
       "  Text(0, 0, ''),\n",
       "  Text(0, 0, '')])"
      ]
     },
     "execution_count": 35,
     "metadata": {},
     "output_type": "execute_result"
    },
    {
     "data": {
      "image/png": "[encoded data removed]",
      "text/plain": [
       "<Figure size 576x288 with 1 Axes>"
      ]
     },
     "metadata": {
      "needs_background": "light"
     },
     "output_type": "display_data"
    }
   ],
   "source": [
    "#높은 강도와 낮은 강도 (점프) 비교\n",
    "import matplotlib.pyplot as plt\n",
    "%matplotlib inline\n",
    "\n",
    "plt.figure(figsize = (8,4))\n",
    "p1 = plt.plot(gbm.time_grid,paths_3[:,:10],'b')\n",
    "p2 = plt.plot(gbm.time_grid,paths_4[:,:10], 'r-.')\n",
    "plt.grid(True)\n",
    "l1 = plt.legend([p1[0],p2[0]],['low intensity','high intensity'],loc = 3)\n",
    "plt.gca().add_artist(l1)\n",
    "plt.xticks(rotation = 30)"
   ]
  },
  {
   "cell_type": "code",
   "execution_count": null,
   "metadata": {},
   "outputs": [],
   "source": []
  },
  {
   "cell_type": "code",
   "execution_count": null,
   "metadata": {},
   "outputs": [],
   "source": []
  }
 ],
 "metadata": {
  "kernelspec": {
   "display_name": "Python 3",
   "language": "python",
   "name": "python3"
  },
  "language_info": {
   "codemirror_mode": {
    "name": "ipython",
    "version": 3
   },
   "file_extension": ".py",
   "mimetype": "text/x-python",
   "name": "python",
   "nbconvert_exporter": "python",
   "pygments_lexer": "ipython3",
   "version": "3.8.3"
  }
 },
 "nbformat": 4,
 "nbformat_minor": 4
}
