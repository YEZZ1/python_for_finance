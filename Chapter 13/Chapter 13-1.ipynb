{
 "cells": [
  {
   "cell_type": "markdown",
   "metadata": {},
   "source": [
    "### 13-1 객체지향"
   ]
  },
  {
   "cell_type": "markdown",
   "metadata": {},
   "source": [
    "**13-1-1 파이썬 클래스 기초**"
   ]
  },
  {
   "cell_type": "code",
   "execution_count": 1,
   "metadata": {},
   "outputs": [],
   "source": [
    "class ExampleOne(object):\n",
    "    pass\n",
    "#이름만 차지, 아무것도 안함"
   ]
  },
  {
   "cell_type": "code",
   "execution_count": 2,
   "metadata": {},
   "outputs": [],
   "source": [
    "c = ExampleOne() #instent 새로운 파이썬 객체로 생성"
   ]
  },
  {
   "cell_type": "code",
   "execution_count": 3,
   "metadata": {},
   "outputs": [
    {
     "data": {
      "text/plain": [
       "'<__main__.ExampleOne object at 0x000002034B62A100>'"
      ]
     },
     "execution_count": 3,
     "metadata": {},
     "output_type": "execute_result"
    }
   ],
   "source": [
    "c.__str__() #문자열로 표현 가능"
   ]
  },
  {
   "cell_type": "code",
   "execution_count": 4,
   "metadata": {},
   "outputs": [
    {
     "data": {
      "text/plain": [
       "__main__.ExampleOne"
      ]
     },
     "execution_count": 4,
     "metadata": {},
     "output_type": "execute_result"
    }
   ],
   "source": [
    "type(c)"
   ]
  },
  {
   "cell_type": "code",
   "execution_count": 5,
   "metadata": {},
   "outputs": [],
   "source": [
    "class ExampleTwo(object):\n",
    "    def __init__(self,a,b):\n",
    "        self.a = a\n",
    "        self.b = b\n",
    "#a,b라는 두 개의 속성 정의 > 관리상 self라는 이름으로 메서드 인수됨"
   ]
  },
  {
   "cell_type": "code",
   "execution_count": 6,
   "metadata": {},
   "outputs": [],
   "source": [
    "c = ExampleTwo(1,'text') #속성 두개 필요"
   ]
  },
  {
   "cell_type": "code",
   "execution_count": 7,
   "metadata": {},
   "outputs": [
    {
     "data": {
      "text/plain": [
       "(1, 'text')"
      ]
     },
     "execution_count": 7,
     "metadata": {},
     "output_type": "execute_result"
    }
   ],
   "source": [
    "c.a , c.b"
   ]
  },
  {
   "cell_type": "code",
   "execution_count": 8,
   "metadata": {},
   "outputs": [
    {
     "data": {
      "text/plain": [
       "100"
      ]
     },
     "execution_count": 8,
     "metadata": {},
     "output_type": "execute_result"
    }
   ],
   "source": [
    "c.a = 100 #덮어쓸 수 있음\n",
    "c.a"
   ]
  },
  {
   "cell_type": "code",
   "execution_count": 9,
   "metadata": {},
   "outputs": [],
   "source": [
    "c = ExampleOne()\n",
    "#생성 후 속성 정의 가능\n",
    "c.first_name = 'Jason'\n",
    "c.last_name = 'Bourne'\n",
    "c.movies = 4"
   ]
  },
  {
   "cell_type": "code",
   "execution_count": 10,
   "metadata": {},
   "outputs": [
    {
     "name": "stdout",
     "output_type": "stream",
     "text": [
      "Jason Bourne 4\n"
     ]
    }
   ],
   "source": [
    "print(c.first_name,c.last_name,c.movies)"
   ]
  },
  {
   "cell_type": "code",
   "execution_count": 11,
   "metadata": {},
   "outputs": [],
   "source": [
    "#method 생성 가능\n",
    "class ExampleThree(object):\n",
    "    def __init__(self,a,b):\n",
    "        self.a = a\n",
    "        self.b = b\n",
    "    def addition(self):\n",
    "        return self.a+self.b"
   ]
  },
  {
   "cell_type": "code",
   "execution_count": 13,
   "metadata": {},
   "outputs": [],
   "source": [
    "c= ExampleThree(10,15)"
   ]
  },
  {
   "cell_type": "code",
   "execution_count": 14,
   "metadata": {},
   "outputs": [
    {
     "data": {
      "text/plain": [
       "25"
      ]
     },
     "execution_count": 14,
     "metadata": {},
     "output_type": "execute_result"
    }
   ],
   "source": [
    "c.addition()"
   ]
  },
  {
   "cell_type": "code",
   "execution_count": 15,
   "metadata": {},
   "outputs": [
    {
     "data": {
      "text/plain": [
       "35"
      ]
     },
     "execution_count": 15,
     "metadata": {},
     "output_type": "execute_result"
    }
   ],
   "source": [
    "c.a+=10 #a = a+10\n",
    "c.addition()"
   ]
  },
  {
   "cell_type": "code",
   "execution_count": 16,
   "metadata": {},
   "outputs": [],
   "source": [
    "#reusability Three를 Two에서 method정의만 해도 만들 수 있음.\n",
    "class ExampleFour(ExampleTwo):\n",
    "    def addition(self):\n",
    "        return self.a + self.b"
   ]
  },
  {
   "cell_type": "code",
   "execution_count": 17,
   "metadata": {},
   "outputs": [
    {
     "data": {
      "text/plain": [
       "25"
      ]
     },
     "execution_count": 17,
     "metadata": {},
     "output_type": "execute_result"
    }
   ],
   "source": [
    "# ExampleThree 와 ExampleFour는 완전 똑같음\n",
    "c = ExampleFour(10,15)\n",
    "c.addition()"
   ]
  },
  {
   "cell_type": "code",
   "execution_count": 18,
   "metadata": {},
   "outputs": [],
   "source": [
    "#다중 상속 허용 > 가독성, 유지보수 가능한지 주의\n",
    "class ExampleFive(ExampleFour):\n",
    "    def multiplication(self):\n",
    "        return self.a*self.b\n",
    "#Five : add, multi"
   ]
  },
  {
   "cell_type": "code",
   "execution_count": 20,
   "metadata": {},
   "outputs": [
    {
     "data": {
      "text/plain": [
       "(25, 150)"
      ]
     },
     "execution_count": 20,
     "metadata": {},
     "output_type": "execute_result"
    }
   ],
   "source": [
    "c = ExampleFive(10,15)\n",
    "c.addition(), c.multiplication()"
   ]
  },
  {
   "cell_type": "code",
   "execution_count": 24,
   "metadata": {},
   "outputs": [],
   "source": [
    "#method 정의를 꼭 class에 포함해야 하는 건 아님.\n",
    "def multiplication(self):\n",
    "    return self.a * self.b\n",
    "class ExampleSix(ExampleFour):\n",
    "    multiplication = multiplication"
   ]
  },
  {
   "cell_type": "code",
   "execution_count": 25,
   "metadata": {},
   "outputs": [
    {
     "data": {
      "text/plain": [
       "(25, 150)"
      ]
     },
     "execution_count": 25,
     "metadata": {},
     "output_type": "execute_result"
    }
   ],
   "source": [
    "c = ExampleSix(10,15)\n",
    "c.addition(),c.multiplication()"
   ]
  },
  {
   "cell_type": "code",
   "execution_count": 26,
   "metadata": {},
   "outputs": [],
   "source": [
    "#private 속성 가질 시 _ or __를 속성 앞에 붙임\n",
    "class ExampleSeven(object):\n",
    "    def __init__(self,a,b):\n",
    "        self.a = a\n",
    "        self.b = b\n",
    "        self.__sum = a+b\n",
    "    multiplication = multiplication\n",
    "    def addition(self):\n",
    "        return self.__sum"
   ]
  },
  {
   "cell_type": "code",
   "execution_count": 27,
   "metadata": {},
   "outputs": [
    {
     "data": {
      "text/plain": [
       "25"
      ]
     },
     "execution_count": 27,
     "metadata": {},
     "output_type": "execute_result"
    }
   ],
   "source": [
    "c = ExampleSeven(10,15)\n",
    "c.addition()"
   ]
  },
  {
   "cell_type": "code",
   "execution_count": 28,
   "metadata": {},
   "outputs": [
    {
     "data": {
      "text/plain": [
       "25"
      ]
     },
     "execution_count": 28,
     "metadata": {},
     "output_type": "execute_result"
    }
   ],
   "source": [
    "#호출하면 동일 but 접근 X\n",
    "c._ExampleSeven__sum #이렇게 접근 가능"
   ]
  },
  {
   "cell_type": "code",
   "execution_count": 29,
   "metadata": {},
   "outputs": [
    {
     "data": {
      "text/plain": [
       "20"
      ]
     },
     "execution_count": 29,
     "metadata": {},
     "output_type": "execute_result"
    }
   ],
   "source": [
    "c.a +=10\n",
    "c.a"
   ]
  },
  {
   "cell_type": "code",
   "execution_count": 31,
   "metadata": {},
   "outputs": [
    {
     "data": {
      "text/plain": [
       "(25, 25)"
      ]
     },
     "execution_count": 31,
     "metadata": {},
     "output_type": "execute_result"
    }
   ],
   "source": [
    "c.addition(), c._ExampleSeven__sum   #호출 결과 안바뀜 왜냐면 sum값이 갱신되지 않았기 때문에"
   ]
  },
  {
   "cell_type": "code",
   "execution_count": 32,
   "metadata": {},
   "outputs": [
    {
     "data": {
      "text/plain": [
       "300"
      ]
     },
     "execution_count": 32,
     "metadata": {},
     "output_type": "execute_result"
    }
   ],
   "source": [
    "#but multi는 제대로 작동\n",
    "c.multiplication()"
   ]
  },
  {
   "cell_type": "code",
   "execution_count": 33,
   "metadata": {},
   "outputs": [],
   "source": [
    "#iter method < class instent를 반복할 시 호출\n",
    "name_list = ['Sandra','Lilli','Guido','Zorro','Mercy']"
   ]
  },
  {
   "cell_type": "code",
   "execution_count": 34,
   "metadata": {},
   "outputs": [
    {
     "name": "stdout",
     "output_type": "stream",
     "text": [
      "Sandra\n",
      "Lilli\n",
      "Guido\n",
      "Zorro\n",
      "Mercy\n"
     ]
    }
   ],
   "source": [
    "#integer counter or index 사용 X\n",
    "for name in name_list:\n",
    "    print(name)"
   ]
  },
  {
   "cell_type": "markdown",
   "metadata": {},
   "source": [
    "method값 반환 반복저에 정렬 반환하는 calss정의 > init, iter, next필요\\\n",
    "\n",
    "- init : elements\\\n",
    "\n",
    "- iter 반복 시작될 때 호출 반복시 next 필요\\\n",
    "\n",
    "- next 단계별 일어나야 할 일 정의. self.position = -1부터 시작해 +1씩 증가시켜 index에 해당하는element반환"
   ]
  },
  {
   "cell_type": "code",
   "execution_count": 46,
   "metadata": {},
   "outputs": [],
   "source": [
    "class sorted_list(object):\n",
    "    def __init__(self,elements):\n",
    "        self.elements = sorted(elements)  #sorted : list object\n",
    "    def __iter__(self):\n",
    "        self.position = -1\n",
    "        return self\n",
    "    def __next__(self):\n",
    "        if self.position == len(self.elements)-1 :\n",
    "            raise StopIteration\n",
    "        self.position += 1\n",
    "        return self.elements[self.position]"
   ]
  },
  {
   "cell_type": "code",
   "execution_count": 47,
   "metadata": {},
   "outputs": [],
   "source": [
    "#name_list로 instent 생성\n",
    "sorted_name_list = sorted_list(name_list)"
   ]
  },
  {
   "cell_type": "code",
   "execution_count": 48,
   "metadata": {},
   "outputs": [
    {
     "name": "stdout",
     "output_type": "stream",
     "text": [
      "Guido\n",
      "Lilli\n",
      "Mercy\n",
      "Sandra\n",
      "Zorro\n"
     ]
    }
   ],
   "source": [
    "for name in sorted_name_list:\n",
    "    print(name)  #알파벳 순서대로 출력"
   ]
  },
  {
   "cell_type": "code",
   "execution_count": 49,
   "metadata": {},
   "outputs": [
    {
     "data": {
      "text/plain": [
       "list"
      ]
     },
     "execution_count": 49,
     "metadata": {},
     "output_type": "execute_result"
    }
   ],
   "source": [
    "type(sorted(name_list))"
   ]
  },
  {
   "cell_type": "code",
   "execution_count": 50,
   "metadata": {},
   "outputs": [
    {
     "name": "stdout",
     "output_type": "stream",
     "text": [
      "Guido\n",
      "Lilli\n",
      "Mercy\n",
      "Sandra\n",
      "Zorro\n"
     ]
    }
   ],
   "source": [
    "for name in sorted(name_list):\n",
    "    print(name)     #sorted함수 사용하면 같은 값 얻을 수 있음"
   ]
  },
  {
   "cell_type": "code",
   "execution_count": 51,
   "metadata": {},
   "outputs": [
    {
     "data": {
      "text/plain": [
       "__main__.sorted_list"
      ]
     },
     "execution_count": 51,
     "metadata": {},
     "output_type": "execute_result"
    }
   ],
   "source": [
    "#but type이 다름\n",
    "type(sorted_name_list)"
   ]
  },
  {
   "cell_type": "markdown",
   "metadata": {},
   "source": [
    "**13-1-2 간단한 단기 이자율 클래스**"
   ]
  },
  {
   "cell_type": "markdown",
   "metadata": {},
   "source": [
    "in finance, one of concepts is discount\\\n",
    "연속복리로 했을 때 $D_0(t) = e^{-rt}$"
   ]
  },
  {
   "cell_type": "code",
   "execution_count": 54,
   "metadata": {},
   "outputs": [],
   "source": [
    "#numpy 유니버셜 함수 사용\n",
    "import numpy as np\n",
    "def discount_factor(r,t):\n",
    "    '''\n",
    "    할인율 계산 함수\n",
    "    \n",
    "    argument\n",
    "    ====\n",
    "    r : float\n",
    "        고정 단기 이자율 r>0\n",
    "    t : float\n",
    "        미래 날짜, 연단위 \n",
    "    \n",
    "    return value\n",
    "    ====\n",
    "    df : float \n",
    "        할인율\n",
    "    '''\n",
    "    df = np.exp(-r*t) #vector화 위해\n",
    "    return df"
   ]
  },
  {
   "cell_type": "code",
   "execution_count": 55,
   "metadata": {},
   "outputs": [],
   "source": [
    "import matplotlib.pyplot as plt\n",
    "%matplotlib inline"
   ]
  },
  {
   "cell_type": "code",
   "execution_count": 56,
   "metadata": {},
   "outputs": [
    {
     "data": {
      "text/plain": [
       "<matplotlib.legend.Legend at 0x2034a676820>"
      ]
     },
     "execution_count": 56,
     "metadata": {},
     "output_type": "execute_result"
    },
    {
     "data": {
      "image/png": "[encoded data removed]",
      "text/plain": [
       "<Figure size 432x288 with 1 Axes>"
      ]
     },
     "metadata": {
      "needs_background": "light"
     },
     "output_type": "display_data"
    }
   ],
   "source": [
    "t = np.linspace(0,5)\n",
    "\n",
    "for r in [0.01,0.05,0.1]:\n",
    "    plt.plot(t,discount_factor(r,t), label = 'r=%4.2f'%r,lw = 1.5)\n",
    "\n",
    "plt.xlabel('years')\n",
    "plt.ylabel('discount factor')\n",
    "plt.grid(True)\n",
    "plt.legend(loc = 0)"
   ]
  },
  {
   "cell_type": "code",
   "execution_count": 58,
   "metadata": {},
   "outputs": [],
   "source": [
    "#class기반 구현\n",
    "class short_rate(object):\n",
    "    '''\n",
    "    고정 단기 이자율 객체모형\n",
    "    \n",
    "    properties\n",
    "    ====\n",
    "    name : string\n",
    "        객체 이름\n",
    "    rate : float \n",
    "        고정 단기 이자율\n",
    "        \n",
    "    method\n",
    "    ====\n",
    "    get_discount_factors:\n",
    "        주어진 시간 리스트/배열 입력에 대한 할인율 반환\n",
    "    '''\n",
    "    def __init__(self,name,rate):\n",
    "        self.name = name\n",
    "        self.rate = rate\n",
    "    def get_discount_factors(self,time_list):\n",
    "        ''' time_list : list/araay-like'''\n",
    "        time_list = np.array(time_list)\n",
    "        return np.exp(-self.rate*time_list)"
   ]
  },
  {
   "cell_type": "code",
   "execution_count": 59,
   "metadata": {},
   "outputs": [
    {
     "data": {
      "text/plain": [
       "('r', 0.05)"
      ]
     },
     "execution_count": 59,
     "metadata": {},
     "output_type": "execute_result"
    }
   ],
   "source": [
    "sr = short_rate('r',0.05)\n",
    "sr.name, sr.rate"
   ]
  },
  {
   "cell_type": "code",
   "execution_count": 60,
   "metadata": {},
   "outputs": [
    {
     "data": {
      "text/plain": [
       "array([1.        , 0.97530991, 0.95122942, 0.93941306, 0.91621887,\n",
       "       0.90483742])"
      ]
     },
     "execution_count": 60,
     "metadata": {},
     "output_type": "execute_result"
    }
   ],
   "source": [
    "time_list = [0.0,0.5,1.0,1.25,1.75,2.0] #연단위\n",
    "sr.get_discount_factors(time_list)"
   ]
  },
  {
   "cell_type": "code",
   "execution_count": 61,
   "metadata": {},
   "outputs": [
    {
     "data": {
      "image/png": "[encoded data removed]",
      "text/plain": [
       "<Figure size 432x288 with 1 Axes>"
      ]
     },
     "metadata": {
      "needs_background": "light"
     },
     "output_type": "display_data"
    }
   ],
   "source": [
    "for r in [0.025,0.05,0.,0.15]:\n",
    "    sr.rate = r\n",
    "    plt.plot(t,sr.get_discount_factors(t),label = 'r=%4.2f'%sr.rate,lw =1.5)\n",
    "    plt.xlabel('years')\n",
    "    plt.ylabel('discount factor')\n",
    "    plt.grid(True)\n",
    "    plt.legend(loc = 0)"
   ]
  },
  {
   "cell_type": "code",
   "execution_count": 62,
   "metadata": {},
   "outputs": [],
   "source": [
    "sr.rate =0.05\n",
    "cash_flows = np.array([-100,50,75])\n",
    "time_list = [0.0,1.0,2.0]"
   ]
  },
  {
   "cell_type": "code",
   "execution_count": 63,
   "metadata": {},
   "outputs": [
    {
     "data": {
      "text/plain": [
       "array([1.        , 0.95122942, 0.90483742])"
      ]
     },
     "execution_count": 63,
     "metadata": {},
     "output_type": "execute_result"
    }
   ],
   "source": [
    "disc_facts = sr.get_discount_factors(time_list)\n",
    "disc_facts"
   ]
  },
  {
   "cell_type": "code",
   "execution_count": 64,
   "metadata": {},
   "outputs": [
    {
     "data": {
      "text/plain": [
       "array([-100.        ,   47.56147123,   67.86280635])"
      ]
     },
     "execution_count": 64,
     "metadata": {},
     "output_type": "execute_result"
    }
   ],
   "source": [
    "#현가\n",
    "disc_facts*cash_flows"
   ]
  },
  {
   "cell_type": "markdown",
   "metadata": {},
   "source": [
    ">NPV(순 현재가치)>0이면 투자, NPV = 각각의 현금흐름의 현재가치 합한 값"
   ]
  },
  {
   "cell_type": "code",
   "execution_count": 65,
   "metadata": {},
   "outputs": [
    {
     "data": {
      "text/plain": [
       "15.424277577732667"
      ]
     },
     "execution_count": 65,
     "metadata": {},
     "output_type": "execute_result"
    }
   ],
   "source": [
    "#NPV\n",
    "np.sum(disc_facts*cash_flows)  #r = 0.5라면 투자 해야함"
   ]
  },
  {
   "cell_type": "code",
   "execution_count": 67,
   "metadata": {},
   "outputs": [
    {
     "data": {
      "text/plain": [
       "-1.403234627618268"
      ]
     },
     "execution_count": 67,
     "metadata": {},
     "output_type": "execute_result"
    }
   ],
   "source": [
    "sr.rate = 0.15\n",
    "np.sum(sr.get_discount_factors(time_list)*cash_flows) # r=0.15일경우 투자 X"
   ]
  },
  {
   "cell_type": "markdown",
   "metadata": {},
   "source": [
    "**13-1-3 현금 흐름 클래스**"
   ]
  },
  {
   "cell_type": "code",
   "execution_count": 72,
   "metadata": {},
   "outputs": [],
   "source": [
    "class cash_flow_series(object):\n",
    "    '''\n",
    "    일련의 현금 흐름 모형을 위한 클래스\n",
    "    \n",
    "    properties\n",
    "    ====\n",
    "    name : string\n",
    "        객체 이름\n",
    "    time_list : list/array-like\n",
    "        시간 list(연단위)\n",
    "    cash_flows :list/array-like\n",
    "        현금 흐름 값 list\n",
    "    short_rate : instance of short_rate class\n",
    "        할인에 사용되는 단기 이자율\n",
    "    \n",
    "    method\n",
    "    ====\n",
    "    prevent_value_list : \n",
    "        현재가치 배열 반환\n",
    "    net_present_value:\n",
    "        NPV반환\n",
    "    '''\n",
    "    def __init__(self,name,time_list,cash_flows,short_rate):\n",
    "        self.name = name\n",
    "        self.time_list = time_list\n",
    "        self.cash_flows = cash_flows\n",
    "        self.short_rate = short_rate\n",
    "    def prevent_value_list(self):\n",
    "        df = self.short_rate.get_discount_factors(self.time_list)\n",
    "        return np.array(self.cash_flows)*df\n",
    "    def net_prevent_value(self):\n",
    "        return np.sum(self.prevent_value_list())"
   ]
  },
  {
   "cell_type": "code",
   "execution_count": 73,
   "metadata": {},
   "outputs": [],
   "source": [
    "sr.rate = 0.05\n",
    "cfs = cash_flow_series('cfs',time_list,cash_flows,sr)"
   ]
  },
  {
   "cell_type": "code",
   "execution_count": 74,
   "metadata": {},
   "outputs": [
    {
     "data": {
      "text/plain": [
       "(array([-100,   50,   75]), [0.0, 1.0, 2.0])"
      ]
     },
     "execution_count": 74,
     "metadata": {},
     "output_type": "execute_result"
    }
   ],
   "source": [
    "cfs.cash_flows, cfs.time_list"
   ]
  },
  {
   "cell_type": "code",
   "execution_count": 75,
   "metadata": {},
   "outputs": [
    {
     "data": {
      "text/plain": [
       "(array([-100.        ,   47.56147123,   67.86280635]), 15.424277577732667)"
      ]
     },
     "execution_count": 75,
     "metadata": {},
     "output_type": "execute_result"
    }
   ],
   "source": [
    "#이전 결과와 class사용 결과 비교\n",
    "cfs.prevent_value_list(), cfs.net_prevent_value()"
   ]
  },
  {
   "cell_type": "code",
   "execution_count": 76,
   "metadata": {},
   "outputs": [],
   "source": [
    "#계산단계 일반화\n",
    "#민감도 분석(sensitivity analysis)위한 method제공하는 클래스 정의.\n",
    "#(여러가지 다른 이자율 값에 대해 NPV계산하는)"
   ]
  },
  {
   "cell_type": "code",
   "execution_count": 77,
   "metadata": {},
   "outputs": [],
   "source": [
    "class cfs_sensitivity(cash_flow_series):\n",
    "    def npv_sensitivity(self,short_rates):\n",
    "        npvs = []\n",
    "        for rate in short_rates:\n",
    "            sr.rate = rate\n",
    "            npvs.append(self.net_prevent_value())\n",
    "        return np.array(npvs)"
   ]
  },
  {
   "cell_type": "code",
   "execution_count": 78,
   "metadata": {},
   "outputs": [],
   "source": [
    "cfs_sens = cfs_sensitivity('cfs',time_list,cash_flows,sr)"
   ]
  },
  {
   "cell_type": "code",
   "execution_count": 79,
   "metadata": {},
   "outputs": [
    {
     "data": {
      "text/plain": [
       "array([23.01739219, 20.10770244, 15.42427758, 10.94027255,  6.64667738,\n",
       "        2.53490386, -1.40323463, -8.78945889])"
      ]
     },
     "execution_count": 79,
     "metadata": {},
     "output_type": "execute_result"
    }
   ],
   "source": [
    "short_rates = [0.01,0.025,0.05,0.075,0.1,0.125,0.15,0.2]\n",
    "npvs = cfs_sens.npv_sensitivity(short_rates)\n",
    "npvs"
   ]
  },
  {
   "cell_type": "code",
   "execution_count": 81,
   "metadata": {},
   "outputs": [
    {
     "data": {
      "text/plain": [
       "Text(0, 0.5, 'NPV')"
      ]
     },
     "execution_count": 81,
     "metadata": {},
     "output_type": "execute_result"
    },
    {
     "data": {
      "image/png": "[encoded data removed]",
      "text/plain": [
       "<Figure size 432x288 with 1 Axes>"
      ]
     },
     "metadata": {
      "needs_background": "light"
     },
     "output_type": "display_data"
    }
   ],
   "source": [
    "#굵은 수평선 > 수익률에 대해 수익성 있는 투자와 그렇지 않은 투자 구분하는 점\n",
    "plt.plot(short_rates,npvs,'b')\n",
    "plt.plot(short_rates,npvs,'ro')\n",
    "plt.plot((0,max(short_rates)),(0,0),'r',lw = 2)\n",
    "plt.grid(True)\n",
    "plt.xlabel('short rates')\n",
    "plt.ylabel('NPV')"
   ]
  },
  {
   "cell_type": "code",
   "execution_count": null,
   "metadata": {},
   "outputs": [],
   "source": []
  }
 ],
 "metadata": {
  "kernelspec": {
   "display_name": "Python 3",
   "language": "python",
   "name": "python3"
  },
  "language_info": {
   "codemirror_mode": {
    "name": "ipython",
    "version": 3
   },
   "file_extension": ".py",
   "mimetype": "text/x-python",
   "name": "python",
   "nbconvert_exporter": "python",
   "pygments_lexer": "ipython3",
   "version": "3.8.3"
  }
 },
 "nbformat": 4,
 "nbformat_minor": 4
}
