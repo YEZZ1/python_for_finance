{
 "cells": [
  {
   "cell_type": "markdown",
   "metadata": {},
   "source": [
    "### Graphical User Interfaces(GUI)"
   ]
  },
  {
   "cell_type": "markdown",
   "metadata": {},
   "source": [
    "**Short rate with GUI**\n"
   ]
  },
  {
   "cell_type": "code",
   "execution_count": 5,
   "metadata": {},
   "outputs": [],
   "source": [
    "import numpy as np\n",
    "import traits.api as trapi"
   ]
  },
  {
   "cell_type": "code",
   "execution_count": 6,
   "metadata": {},
   "outputs": [],
   "source": [
    "class short_rate(trapi.HasTraits):\n",
    "    name = trapi.Str\n",
    "    rate = trapi.Float\n",
    "    time_list = trapi.Array(dtype = np.float, shape = (5,))\n",
    "    def get_discount_factors(self):\n",
    "        return np.exp(-self.rate*self.time_list)"
   ]
  },
  {
   "cell_type": "code",
   "execution_count": 7,
   "metadata": {},
   "outputs": [],
   "source": [
    "sr = short_rate()"
   ]
  },
  {
   "cell_type": "code",
   "execution_count": 8,
   "metadata": {},
   "outputs": [
    {
     "data": {
      "text/plain": [
       "True"
      ]
     },
     "execution_count": 8,
     "metadata": {},
     "output_type": "execute_result"
    }
   ],
   "source": [
    "sr.configure_traits() #값 넣을 수 있음"
   ]
  },
  {
   "cell_type": "code",
   "execution_count": 9,
   "metadata": {},
   "outputs": [],
   "source": [
    "#코드로 쳐도 무관\n",
    "sr.name = 'sr_class'\n",
    "sr.rate = 0.05\n",
    "sr.time_list = [0.0,0.5,1.0,1.5,2.0]"
   ]
  },
  {
   "cell_type": "code",
   "execution_count": 10,
   "metadata": {},
   "outputs": [
    {
     "data": {
      "text/plain": [
       "(0.05,\n",
       " array([0. , 0.5, 1. , 1.5, 2. ]),\n",
       " array([1.        , 0.97530991, 0.95122942, 0.92774349, 0.90483742]))"
      ]
     },
     "execution_count": 10,
     "metadata": {},
     "output_type": "execute_result"
    }
   ],
   "source": [
    "sr.rate, sr.time_list, sr.get_discount_factors()"
   ]
  },
  {
   "cell_type": "markdown",
   "metadata": {},
   "source": [
    "**updating of values**"
   ]
  },
  {
   "cell_type": "code",
   "execution_count": 11,
   "metadata": {},
   "outputs": [],
   "source": [
    "import traitsui.api as trui"
   ]
  },
  {
   "cell_type": "code",
   "execution_count": 26,
   "metadata": {},
   "outputs": [],
   "source": [
    "class short_rate(trapi.HasTraits):\n",
    "    name = trapi.Str\n",
    "    rate = trapi.Float\n",
    "    time_list = trapi.Array(dtype = np.float, shape = (1,5))\n",
    "    disc_list = trapi.Array(dtype = np.float, shape = (1,5))\n",
    "    update = trapi.Button\n",
    "    def _update_fired(self):\n",
    "        self.disc_list = np.exp(-self.rate*self.time_list)\n",
    "    v = trui.View(trui.Group(trui.Item(name = 'name'),\n",
    "                            trui.Item(name = 'rate'),\n",
    "                            trui.Item(name = 'time_list',\n",
    "                                      label = 'Insert Time List Here'),\n",
    "                            trui.Item('update',show_label = False),\n",
    "                            trui.Item(name = 'disc_list',\n",
    "                                      label = 'Press Update for Factors'),\n",
    "                            show_border = True, label = 'Calculate Discount Factors'),\n",
    "                 buttons = [trui.OKButton, trui.CancelButton],\n",
    "                 resizable = True)"
   ]
  },
  {
   "cell_type": "code",
   "execution_count": 27,
   "metadata": {},
   "outputs": [],
   "source": [
    "sr = short_rate()"
   ]
  },
  {
   "cell_type": "code",
   "execution_count": 31,
   "metadata": {},
   "outputs": [
    {
     "data": {
      "text/plain": [
       "True"
      ]
     },
     "execution_count": 31,
     "metadata": {},
     "output_type": "execute_result"
    }
   ],
   "source": [
    "sr.configure_traits()"
   ]
  },
  {
   "cell_type": "code",
   "execution_count": 29,
   "metadata": {},
   "outputs": [],
   "source": [
    "sr.name = 'sr_class'\n",
    "sr.rate = 0.05\n",
    "sr.time_list = np.array(([0.0,0.5,1.0,1.5,2.0],), dtype = np.float32)"
   ]
  },
  {
   "cell_type": "code",
   "execution_count": 30,
   "metadata": {},
   "outputs": [],
   "source": [
    "sr._update_fired()  #이 이후에 sr.configure_traits 하면 update된 값 나옴"
   ]
  },
  {
   "cell_type": "code",
   "execution_count": 33,
   "metadata": {},
   "outputs": [
    {
     "data": {
      "text/plain": [
       "array([[1.        , 0.97530991, 0.95122942, 0.92774349, 0.90483742]])"
      ]
     },
     "execution_count": 33,
     "metadata": {},
     "output_type": "execute_result"
    }
   ],
   "source": [
    "sr.disc_list"
   ]
  },
  {
   "cell_type": "raw",
   "metadata": {},
   "source": [
    "**Cash Flow Series Class with GUI(현금흐름)**"
   ]
  },
  {
   "cell_type": "code",
   "execution_count": 43,
   "metadata": {},
   "outputs": [],
   "source": [
    "class cash_flow_series(trapi.HasTraits):\n",
    "    name = trapi.Str\n",
    "    short_rate = trapi.Range(0.0,0.5,0.05)  #시간에 따라 달라지는 이자율\n",
    "    time_list = trapi.Array(dtype = np.float,shape = (1,6))\n",
    "    cash_flows = trapi.Array(dtype = np.float, shape = (1,6))\n",
    "    disc_values = trapi.Array(dtype = np.float, shape = (1,6))\n",
    "    present_values = trapi.Array(dtype = np.float, shape = (1,6))\n",
    "    net_present_value = trapi.Float\n",
    "    update = trapi.Button\n",
    "    def _update_fired(self):\n",
    "        self.disc_values = np.exp(-self.short_rate*self.time_list)\n",
    "        self.present_values = self.disc_values*self.cash_flows\n",
    "        self.net_present_value = np.sum(self.present_values)\n",
    "    v = trui.View(trui.Group(trui.Item(name = 'name'),\n",
    "                            trui.Item(name = 'short_rate'),\n",
    "                            trui.Item(name = 'time_list', label = 'Time List'),\n",
    "                            trui.Item(name = 'cash_flows', label = 'Cash Flows'),\n",
    "                            trui.Item('update',show_label = False),\n",
    "                            trui.Item(name = 'disc_values',\n",
    "                                     label = 'Discount Factors'),\n",
    "                            trui.Item(name = 'present_values',\n",
    "                                     label = 'Present Values'),\n",
    "                            trui.Item(name = 'net_present_value',\n",
    "                                     label = 'NPV'),\n",
    "                            show_border = True, label = 'Calculate Present Values'),\n",
    "                 resizable = True)"
   ]
  },
  {
   "cell_type": "code",
   "execution_count": 44,
   "metadata": {},
   "outputs": [],
   "source": [
    "cfs = cash_flow_series()"
   ]
  },
  {
   "cell_type": "code",
   "execution_count": 45,
   "metadata": {},
   "outputs": [
    {
     "data": {
      "text/plain": [
       "True"
      ]
     },
     "execution_count": 45,
     "metadata": {},
     "output_type": "execute_result"
    }
   ],
   "source": [
    "cfs.configure_traits()"
   ]
  },
  {
   "cell_type": "code",
   "execution_count": 46,
   "metadata": {},
   "outputs": [
    {
     "data": {
      "text/plain": [
       "-0.2926769754325136"
      ]
     },
     "execution_count": 46,
     "metadata": {},
     "output_type": "execute_result"
    }
   ],
   "source": [
    "cfs.net_present_value #인터페이스 안에서 바로 해씀"
   ]
  },
  {
   "cell_type": "code",
   "execution_count": null,
   "metadata": {},
   "outputs": [],
   "source": []
  }
 ],
 "metadata": {
  "kernelspec": {
   "display_name": "Python 3",
   "language": "python",
   "name": "python3"
  },
  "language_info": {
   "codemirror_mode": {
    "name": "ipython",
    "version": 3
   },
   "file_extension": ".py",
   "mimetype": "text/x-python",
   "name": "python",
   "nbconvert_exporter": "python",
   "pygments_lexer": "ipython3",
   "version": "3.8.3"
  }
 },
 "nbformat": 4,
 "nbformat_minor": 4
}
