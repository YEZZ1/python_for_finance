{
 "cells": [
  {
   "cell_type": "code",
   "execution_count": 1,
   "metadata": {},
   "outputs": [],
   "source": [
    "a=10"
   ]
  },
  {
   "cell_type": "code",
   "execution_count": 5,
   "metadata": {},
   "outputs": [
    {
     "data": {
      "text/plain": [
       "5"
      ]
     },
     "execution_count": 5,
     "metadata": {},
     "output_type": "execute_result"
    }
   ],
   "source": [
    "1+4 "
   ]
  },
  {
   "cell_type": "code",
   "execution_count": 9,
   "metadata": {},
   "outputs": [],
   "source": [
    "b = 0.35"
   ]
  },
  {
   "cell_type": "code",
   "execution_count": 11,
   "metadata": {},
   "outputs": [
    {
     "data": {
      "text/plain": [
       "0.44999999999999996"
      ]
     },
     "execution_count": 11,
     "metadata": {},
     "output_type": "execute_result"
    }
   ],
   "source": [
    "b+0.1 #오류 이유 : 부동소수점이 내부적으로 이진법을 사용하기 때문에."
   ]
  },
  {
   "cell_type": "markdown",
   "metadata": {},
   "source": [
    "#### 문자열"
   ]
  },
  {
   "cell_type": "code",
   "execution_count": 15,
   "metadata": {},
   "outputs": [
    {
     "data": {
      "text/plain": [
       "'www.python.org'"
      ]
     },
     "execution_count": 15,
     "metadata": {},
     "output_type": "execute_result"
    }
   ],
   "source": [
    "'http://www.python.org'.strip('htp:/')   #왜 자르는게 다른데 왜 다 지워지지?? ->들어간 문자열 순서대로 다 지우는듯"
   ]
  },
  {
   "cell_type": "code",
   "execution_count": 30,
   "metadata": {},
   "outputs": [],
   "source": [
    "import re #문자열 정규표현식"
   ]
  },
  {
   "cell_type": "code",
   "execution_count": 31,
   "metadata": {},
   "outputs": [],
   "source": [
    "series =\"\"\" '01/18/2014 13:00:00',100','1st';\n",
    "            '01/18/2014 13:30:00',110','2nd';\n",
    "            '01/18/2014 14:00:00',120','3rd'\n",
    "            \"\"\"   #\"\"\" 이러면 여러 줄에 걸친 문자열을 정의하는 것 가능\"\"\""
   ]
  },
  {
   "cell_type": "code",
   "execution_count": 38,
   "metadata": {},
   "outputs": [],
   "source": [
    "dt = re.compile(\"'[0-9/:\\s]+'\") #datetime    #backslach 대신 \\사용"
   ]
  },
  {
   "cell_type": "code",
   "execution_count": 51,
   "metadata": {},
   "outputs": [
    {
     "data": {
      "text/plain": [
       "[\"'01/18/2014 13:00:00'\", \"'01/18/2014 13:30:00'\", \"'01/18/2014 14:00:00'\"]"
      ]
     },
     "execution_count": 51,
     "metadata": {},
     "output_type": "execute_result"
    }
   ],
   "source": [
    "result = dt.findall(series)   #?\n",
    "result"
   ]
  },
  {
   "cell_type": "code",
   "execution_count": 2,
   "metadata": {},
   "outputs": [],
   "source": [
    "#날짜, 시간정보\n",
    "from datetime import datetime"
   ]
  },
  {
   "cell_type": "code",
   "execution_count": 47,
   "metadata": {},
   "outputs": [
    {
     "data": {
      "text/plain": [
       "datetime.datetime(2014, 1, 18, 13, 0)"
      ]
     },
     "execution_count": 47,
     "metadata": {},
     "output_type": "execute_result"
    }
   ],
   "source": [
    "pydt = datetime.strptime(result[0].replace(\"'\",\"\"),\n",
    "               '%m/%d/%Y %H:%M:%S')\n",
    "pydt"
   ]
  },
  {
   "cell_type": "code",
   "execution_count": 48,
   "metadata": {},
   "outputs": [
    {
     "name": "stdout",
     "output_type": "stream",
     "text": [
      "2014-01-18 13:00:00\n"
     ]
    }
   ],
   "source": [
    "print(pydt)   #지금 날짜로는 어떻게? ->부록c"
   ]
  },
  {
   "cell_type": "code",
   "execution_count": 50,
   "metadata": {},
   "outputs": [
    {
     "data": {
      "text/plain": [
       "datetime.datetime(2020, 10, 1, 0, 22, 48, 982467)"
      ]
     },
     "execution_count": 50,
     "metadata": {},
     "output_type": "execute_result"
    }
   ],
   "source": [
    "datetime.today()"
   ]
  },
  {
   "cell_type": "code",
   "execution_count": 3,
   "metadata": {},
   "outputs": [
    {
     "data": {
      "text/plain": [
       "datetime.datetime(2020, 10, 1, 1, 23, 15, 839272)"
      ]
     },
     "execution_count": 3,
     "metadata": {},
     "output_type": "execute_result"
    }
   ],
   "source": [
    "datetime.now()"
   ]
  },
  {
   "cell_type": "markdown",
   "metadata": {},
   "source": [
    "#### 기본 자료구조"
   ]
  },
  {
   "cell_type": "markdown",
   "metadata": {},
   "source": [
    "##### Tuple"
   ]
  },
  {
   "cell_type": "code",
   "execution_count": 53,
   "metadata": {},
   "outputs": [
    {
     "data": {
      "text/plain": [
       "tuple"
      ]
     },
     "execution_count": 53,
     "metadata": {},
     "output_type": "execute_result"
    }
   ],
   "source": [
    "t = (1,2.4,'data') #튜플 - () list - []\n",
    "type(t)"
   ]
  },
  {
   "cell_type": "code",
   "execution_count": 54,
   "metadata": {},
   "outputs": [
    {
     "data": {
      "text/plain": [
       "tuple"
      ]
     },
     "execution_count": 54,
     "metadata": {},
     "output_type": "execute_result"
    }
   ],
   "source": [
    "t = 1,2.5,'data'\n",
    "type(t)"
   ]
  },
  {
   "cell_type": "markdown",
   "metadata": {},
   "source": [
    "#### numpy"
   ]
  },
  {
   "cell_type": "code",
   "execution_count": 5,
   "metadata": {},
   "outputs": [
    {
     "name": "stdout",
     "output_type": "stream",
     "text": [
      "[1, 'insert', 2.5, 1.0, 1.5, 2.0] [4, 3]\n"
     ]
    }
   ],
   "source": [
    "l = [1,2.5,'data']\n",
    "l.append([4,3])\n",
    "l.extend([1.0,1.5,2.0])\n",
    "l.insert(1,'insert') # index 앞에 원소 추가\n",
    "l.remove('data')\n",
    "p = l.pop(3)\n",
    "print(l,p)"
   ]
  },
  {
   "cell_type": "code",
   "execution_count": 13,
   "metadata": {},
   "outputs": [
    {
     "data": {
      "text/plain": [
       "[0, 1, 2, 3, 4, 5, 6, 7]"
      ]
     },
     "execution_count": 13,
     "metadata": {},
     "output_type": "execute_result"
    }
   ],
   "source": [
    "r =list(range(0,8,1))\n",
    "r"
   ]
  },
  {
   "cell_type": "code",
   "execution_count": 10,
   "metadata": {},
   "outputs": [
    {
     "data": {
      "text/plain": [
       "[0, 1, 4, 9, 16]"
      ]
     },
     "execution_count": 10,
     "metadata": {},
     "output_type": "execute_result"
    }
   ],
   "source": [
    "m = [i**2 for i in range(5)]\n",
    "m"
   ]
  },
  {
   "cell_type": "code",
   "execution_count": 3,
   "metadata": {},
   "outputs": [],
   "source": [
    "from functools import reduce"
   ]
  },
  {
   "cell_type": "code",
   "execution_count": 1,
   "metadata": {},
   "outputs": [
    {
     "name": "stdout",
     "output_type": "stream",
     "text": [
      "Wall time: 59.9 s\n"
     ]
    }
   ],
   "source": [
    "import random\n",
    "I = 5000\n",
    "%time mat = [[random.gauss(0,1) for j in range(I)] for i in range(I)]"
   ]
  },
  {
   "cell_type": "code",
   "execution_count": 6,
   "metadata": {},
   "outputs": [
    {
     "name": "stdout",
     "output_type": "stream",
     "text": [
      "Wall time: 6.87 s\n"
     ]
    },
    {
     "data": {
      "text/plain": [
       "-1530.3540895978879"
      ]
     },
     "execution_count": 6,
     "metadata": {},
     "output_type": "execute_result"
    }
   ],
   "source": [
    "%time reduce(lambda x,y:x+y,[reduce(lambda x,y : x+y,row) for row in mat] )"
   ]
  },
  {
   "cell_type": "code",
   "execution_count": null,
   "metadata": {},
   "outputs": [],
   "source": [
    "# dictionary -> import six 해야함 six.iteritems()로 변환됨"
   ]
  },
  {
   "cell_type": "markdown",
   "metadata": {},
   "source": [
    "4-3-3 구조화 배열"
   ]
  },
  {
   "cell_type": "code",
   "execution_count": 3,
   "metadata": {},
   "outputs": [
    {
     "data": {
      "text/plain": [
       "array([(b'happy', 45, 1.83, [0, 1]), (b'Jones', 53, 1.72, [2, 2])],\n",
       "      dtype=[('Name', 'S10'), ('Age', '<i4'), ('Height', '<f4'), ('Children/Pets', '<i4', (2,))])"
      ]
     },
     "execution_count": 3,
     "metadata": {},
     "output_type": "execute_result"
    }
   ],
   "source": [
    "import numpy as np\n",
    "\n",
    "dt = np.dtype([('Name','S10'),('Age','i4'),\n",
    "              ('Height','f'),('Children/Pets','i4',2)])\n",
    "s = np.array([('happy',45,1.83,(0,1)),\n",
    "             ('Jones',53,1.72,(2,2))], dtype = dt)       #b가 왜붙지..?\n",
    "s"
   ]
  },
  {
   "cell_type": "code",
   "execution_count": 4,
   "metadata": {},
   "outputs": [
    {
     "data": {
      "text/plain": [
       "array([b'happy', b'Jones'], dtype='|S10')"
      ]
     },
     "execution_count": 4,
     "metadata": {},
     "output_type": "execute_result"
    }
   ],
   "source": [
    "s['Name']"
   ]
  },
  {
   "cell_type": "code",
   "execution_count": 4,
   "metadata": {},
   "outputs": [
    {
     "data": {
      "text/plain": [
       "53"
      ]
     },
     "execution_count": 4,
     "metadata": {},
     "output_type": "execute_result"
    }
   ],
   "source": [
    "s[1]['Age']"
   ]
  },
  {
   "cell_type": "markdown",
   "metadata": {},
   "source": [
    "#### 4-4 코드 벡터화"
   ]
  },
  {
   "cell_type": "markdown",
   "metadata": {},
   "source": [
    "4-4-1 기본적인 벡터화"
   ]
  },
  {
   "cell_type": "code",
   "execution_count": 5,
   "metadata": {},
   "outputs": [
    {
     "data": {
      "text/plain": [
       "array([[-0.33034789, -0.0125196 , -0.00449011],\n",
       "       [ 0.06663079, -0.57958476,  2.11495174],\n",
       "       [ 2.06358684,  1.10150721,  1.05982967],\n",
       "       [-1.18685438,  0.44248739, -2.44383824]])"
      ]
     },
     "execution_count": 5,
     "metadata": {},
     "output_type": "execute_result"
    }
   ],
   "source": [
    "r = np.random.standard_normal((4,3))\n",
    "s = np.random.standard_normal((4,3))\n",
    "r + s"
   ]
  },
  {
   "cell_type": "code",
   "execution_count": 6,
   "metadata": {},
   "outputs": [
    {
     "data": {
      "text/plain": [
       "array([[ 0.25260808, -0.86657167, -0.03834046],\n",
       "       [-0.11542759, -1.26372304,  1.73946579],\n",
       "       [ 0.89353992,  1.3951493 ,  0.29194315],\n",
       "       [ 0.45180582,  1.26624463, -0.71992527]])"
      ]
     },
     "execution_count": 6,
     "metadata": {},
     "output_type": "execute_result"
    }
   ],
   "source": [
    "r"
   ]
  },
  {
   "cell_type": "code",
   "execution_count": 6,
   "metadata": {},
   "outputs": [
    {
     "data": {
      "text/plain": [
       "array([[3.24686454, 7.07374741, 4.53874923],\n",
       "       [1.40281036, 2.4833063 , 0.81338436],\n",
       "       [1.942155  , 3.8087184 , 3.92859301],\n",
       "       [2.60168467, 3.58457647, 0.60737346]])"
      ]
     },
     "execution_count": 6,
     "metadata": {},
     "output_type": "execute_result"
    }
   ],
   "source": [
    "2*r+3"
   ]
  },
  {
   "cell_type": "code",
   "execution_count": 7,
   "metadata": {},
   "outputs": [
    {
     "data": {
      "text/plain": [
       "array([-0.5526401 , -0.7912488 ,  0.47784057])"
      ]
     },
     "execution_count": 7,
     "metadata": {},
     "output_type": "execute_result"
    }
   ],
   "source": [
    "s1 = np.random.standard_normal(3)\n",
    "s1"
   ]
  },
  {
   "cell_type": "code",
   "execution_count": 8,
   "metadata": {},
   "outputs": [
    {
     "data": {
      "text/plain": [
       "array([[ 0.25260808, -0.86657167, -0.03834046],\n",
       "       [-0.11542759, -1.26372304,  1.73946579],\n",
       "       [ 0.89353992,  1.3951493 ,  0.29194315],\n",
       "       [ 0.45180582,  1.26624463, -0.71992527]])"
      ]
     },
     "execution_count": 8,
     "metadata": {},
     "output_type": "execute_result"
    }
   ],
   "source": [
    "r"
   ]
  },
  {
   "cell_type": "code",
   "execution_count": 9,
   "metadata": {},
   "outputs": [
    {
     "data": {
      "text/plain": [
       "array([[-0.30003202, -1.65782047,  0.43950011],\n",
       "       [-0.6680677 , -2.05497184,  2.21730636],\n",
       "       [ 0.34089982,  0.6039005 ,  0.76978372],\n",
       "       [-0.10083428,  0.47499583, -0.2420847 ]])"
      ]
     },
     "execution_count": 9,
     "metadata": {},
     "output_type": "execute_result"
    }
   ],
   "source": [
    "r+s1   #s1원을 r의 각 행에 더함"
   ]
  },
  {
   "cell_type": "code",
   "execution_count": 12,
   "metadata": {},
   "outputs": [
    {
     "ename": "ValueError",
     "evalue": "operands could not be broadcast together with shapes (4,3) (4,) ",
     "output_type": "error",
     "traceback": [
      "\u001b[1;31m---------------------------------------------------------------------------\u001b[0m",
      "\u001b[1;31mValueError\u001b[0m                                Traceback (most recent call last)",
      "\u001b[1;32m<ipython-input-12-7747a03406f8>\u001b[0m in \u001b[0;36m<module>\u001b[1;34m\u001b[0m\n\u001b[0;32m      1\u001b[0m \u001b[0ms2\u001b[0m \u001b[1;33m=\u001b[0m \u001b[0mnp\u001b[0m\u001b[1;33m.\u001b[0m\u001b[0mrandom\u001b[0m\u001b[1;33m.\u001b[0m\u001b[0mstandard_normal\u001b[0m\u001b[1;33m(\u001b[0m\u001b[1;36m4\u001b[0m\u001b[1;33m)\u001b[0m\u001b[1;33m\u001b[0m\u001b[1;33m\u001b[0m\u001b[0m\n\u001b[1;32m----> 2\u001b[1;33m \u001b[0mr\u001b[0m\u001b[1;33m+\u001b[0m\u001b[0ms2\u001b[0m\u001b[1;33m\u001b[0m\u001b[1;33m\u001b[0m\u001b[0m\n\u001b[0m",
      "\u001b[1;31mValueError\u001b[0m: operands could not be broadcast together with shapes (4,3) (4,) "
     ]
    }
   ],
   "source": [
    "s2 = np.random.standard_normal(4)\n",
    "r+s2 #row 크기가달라서"
   ]
  },
  {
   "cell_type": "code",
   "execution_count": 13,
   "metadata": {},
   "outputs": [
    {
     "data": {
      "text/plain": [
       "array([[-1.10443777, -0.01629239,  1.37861541,  0.52185026],\n",
       "       [ 3.84189358, -0.12815006, -0.70455699,  1.02094156],\n",
       "       [-1.11527465, -2.11005473,  0.76041953, -0.05247096]])"
      ]
     },
     "execution_count": 13,
     "metadata": {},
     "output_type": "execute_result"
    }
   ],
   "source": [
    "s3 = np.random.standard_normal((3,4))\n",
    "r.transpose()+s3"
   ]
  },
  {
   "cell_type": "code",
   "execution_count": 14,
   "metadata": {},
   "outputs": [],
   "source": [
    "def f(x) :\n",
    "    return 3*x+5"
   ]
  },
  {
   "cell_type": "code",
   "execution_count": 15,
   "metadata": {},
   "outputs": [
    {
     "data": {
      "text/plain": [
       "6.5"
      ]
     },
     "execution_count": 15,
     "metadata": {},
     "output_type": "execute_result"
    }
   ],
   "source": [
    "f(0.5)"
   ]
  },
  {
   "cell_type": "code",
   "execution_count": 16,
   "metadata": {},
   "outputs": [
    {
     "data": {
      "text/plain": [
       "array([[ 5.3702968 , 11.11062112,  7.30812385],\n",
       "       [ 2.60421553,  4.22495945,  1.72007654],\n",
       "       [ 3.41323249,  6.2130776 ,  6.39288951],\n",
       "       [ 4.402527  ,  5.87686471,  1.41106019]])"
      ]
     },
     "execution_count": 16,
     "metadata": {},
     "output_type": "execute_result"
    }
   ],
   "source": [
    "f(r)   #각 원소마다 가능"
   ]
  },
  {
   "cell_type": "code",
   "execution_count": 19,
   "metadata": {},
   "outputs": [],
   "source": [
    "import math"
   ]
  },
  {
   "cell_type": "code",
   "execution_count": 20,
   "metadata": {},
   "outputs": [
    {
     "ename": "TypeError",
     "evalue": "only size-1 arrays can be converted to Python scalars",
     "output_type": "error",
     "traceback": [
      "\u001b[1;31m---------------------------------------------------------------------------\u001b[0m",
      "\u001b[1;31mTypeError\u001b[0m                                 Traceback (most recent call last)",
      "\u001b[1;32m<ipython-input-20-4cdd0c1f1246>\u001b[0m in \u001b[0;36m<module>\u001b[1;34m\u001b[0m\n\u001b[1;32m----> 1\u001b[1;33m \u001b[0mmath\u001b[0m\u001b[1;33m.\u001b[0m\u001b[0msin\u001b[0m\u001b[1;33m(\u001b[0m\u001b[0mr\u001b[0m\u001b[1;33m)\u001b[0m\u001b[1;33m\u001b[0m\u001b[1;33m\u001b[0m\u001b[0m\n\u001b[0m",
      "\u001b[1;31mTypeError\u001b[0m: only size-1 arrays can be converted to Python scalars"
     ]
    }
   ],
   "source": [
    "math.sin(r)"
   ]
  },
  {
   "cell_type": "code",
   "execution_count": 21,
   "metadata": {},
   "outputs": [
    {
     "data": {
      "text/plain": [
       "array([[ 0.12311908,  0.89333793,  0.69568613],\n",
       "       [-0.71637639, -0.25548261, -0.88815188],\n",
       "       [-0.50460337,  0.39342972,  0.44779389],\n",
       "       [-0.19784372,  0.28814416, -0.93069684]])"
      ]
     },
     "execution_count": 21,
     "metadata": {},
     "output_type": "execute_result"
    }
   ],
   "source": [
    "np.sin(r)   #math 함수로는 numpy배열 성립 X -> np에서 유니버셜함수 제공"
   ]
  },
  {
   "cell_type": "code",
   "execution_count": 22,
   "metadata": {},
   "outputs": [
    {
     "data": {
      "text/plain": [
       "1.2246467991473532e-16"
      ]
     },
     "execution_count": 22,
     "metadata": {},
     "output_type": "execute_result"
    }
   ],
   "source": [
    "np.sin(np.pi)"
   ]
  },
  {
   "cell_type": "markdown",
   "metadata": {},
   "source": [
    "4-4-2 메모리 배치"
   ]
  },
  {
   "cell_type": "code",
   "execution_count": 28,
   "metadata": {},
   "outputs": [],
   "source": [
    "x = np.random.standard_normal((5,10000000))\n",
    "y = 2*x+3\n",
    "C = np.array((x,y),order = 'C')\n",
    "F = np.array((x,y),order = 'F')\n",
    "x = 0.0 ; y = 0.0 #memory cleanup"
   ]
  },
  {
   "cell_type": "code",
   "execution_count": 14,
   "metadata": {},
   "outputs": [
    {
     "data": {
      "text/plain": [
       "array([[[ 0.24,  0.07,  0.41, ...,  0.02,  1.03,  0.13],\n",
       "        [-0.84, -0.8 ,  0.43, ..., -0.48, -0.34,  0.98],\n",
       "        [ 1.79,  1.37, -0.23, ..., -0.89, -0.07, -0.01],\n",
       "        [ 0.73, -0.5 ,  1.23, ..., -1.35,  0.23,  0.06],\n",
       "        [ 0.4 , -0.92, -1.5 , ..., -0.53, -0.51,  0.39]],\n",
       "\n",
       "       [[ 3.47,  3.13,  3.82, ...,  3.03,  5.06,  3.26],\n",
       "        [ 1.32,  1.4 ,  3.85, ...,  2.03,  2.31,  4.97],\n",
       "        [ 6.59,  5.74,  2.53, ...,  1.22,  2.86,  2.98],\n",
       "        [ 4.47,  2.01,  5.46, ...,  0.31,  3.46,  3.12],\n",
       "        [ 3.81,  1.16, -0.01, ...,  1.94,  1.98,  3.77]]])"
      ]
     },
     "execution_count": 14,
     "metadata": {},
     "output_type": "execute_result"
    }
   ],
   "source": [
    "C.round(2)"
   ]
  },
  {
   "cell_type": "code",
   "execution_count": 13,
   "metadata": {},
   "outputs": [
    {
     "data": {
      "text/plain": [
       "array([[[ 0.24,  0.07,  0.41, ...,  0.02,  1.03,  0.13],\n",
       "        [-0.84, -0.8 ,  0.43, ..., -0.48, -0.34,  0.98],\n",
       "        [ 1.79,  1.37, -0.23, ..., -0.89, -0.07, -0.01],\n",
       "        [ 0.73, -0.5 ,  1.23, ..., -1.35,  0.23,  0.06],\n",
       "        [ 0.4 , -0.92, -1.5 , ..., -0.53, -0.51,  0.39]],\n",
       "\n",
       "       [[ 3.47,  3.13,  3.82, ...,  3.03,  5.06,  3.26],\n",
       "        [ 1.32,  1.4 ,  3.85, ...,  2.03,  2.31,  4.97],\n",
       "        [ 6.59,  5.74,  2.53, ...,  1.22,  2.86,  2.98],\n",
       "        [ 4.47,  2.01,  5.46, ...,  0.31,  3.46,  3.12],\n",
       "        [ 3.81,  1.16, -0.01, ...,  1.94,  1.98,  3.77]]])"
      ]
     },
     "execution_count": 13,
     "metadata": {},
     "output_type": "execute_result"
    }
   ],
   "source": [
    "F.round(2)"
   ]
  },
  {
   "cell_type": "code",
   "execution_count": 27,
   "metadata": {},
   "outputs": [
    {
     "name": "stdout",
     "output_type": "stream",
     "text": [
      "271 ms ± 39.6 ms per loop (mean ± std. dev. of 7 runs, 1 loop each)\n"
     ]
    }
   ],
   "source": [
    "%timeit C.sum()"
   ]
  },
  {
   "cell_type": "code",
   "execution_count": 28,
   "metadata": {},
   "outputs": [
    {
     "name": "stdout",
     "output_type": "stream",
     "text": [
      "245 ms ± 16.1 ms per loop (mean ± std. dev. of 7 runs, 1 loop each)\n"
     ]
    }
   ],
   "source": [
    "%timeit F.sum()  #전체합 시 큰 차이 없음"
   ]
  },
  {
   "cell_type": "code",
   "execution_count": 29,
   "metadata": {},
   "outputs": [
    {
     "name": "stdout",
     "output_type": "stream",
     "text": [
      "166 ms ± 1.31 ms per loop (mean ± std. dev. of 7 runs, 10 loops each)\n"
     ]
    }
   ],
   "source": [
    "%timeit C[0].sum(axis = 0)"
   ]
  },
  {
   "cell_type": "code",
   "execution_count": 30,
   "metadata": {},
   "outputs": [
    {
     "name": "stdout",
     "output_type": "stream",
     "text": [
      "114 ms ± 3.77 ms per loop (mean ± std. dev. of 7 runs, 10 loops each)\n"
     ]
    }
   ],
   "source": [
    "%timeit C[0].sum(axis = 1)"
   ]
  },
  {
   "cell_type": "code",
   "execution_count": 31,
   "metadata": {
    "scrolled": false
   },
   "outputs": [
    {
     "name": "stdout",
     "output_type": "stream",
     "text": [
      "1.56 s ± 13.3 ms per loop (mean ± std. dev. of 7 runs, 1 loop each)\n"
     ]
    }
   ],
   "source": [
    "%timeit F.sum(axis = 0)"
   ]
  },
  {
   "cell_type": "code",
   "execution_count": 32,
   "metadata": {
    "scrolled": true
   },
   "outputs": [
    {
     "name": "stdout",
     "output_type": "stream",
     "text": [
      "4.13 s ± 41.3 ms per loop (mean ± std. dev. of 7 runs, 1 loop each)\n"
     ]
    }
   ],
   "source": [
    "%timeit F.sum(axis = 1)"
   ]
  },
  {
   "cell_type": "code",
   "execution_count": 26,
   "metadata": {},
   "outputs": [],
   "source": [
    "F = 0.0 ; C = 0.0"
   ]
  },
  {
   "cell_type": "code",
   "execution_count": 33,
   "metadata": {},
   "outputs": [
    {
     "data": {
      "text/plain": [
       "array([[[-1.16937818, -0.78869819,  1.37885251, ...,  0.57147749,\n",
       "         -0.38019997,  2.22482244],\n",
       "        [-0.02090714, -0.04405681, -0.57115207, ...,  1.31468894,\n",
       "         -1.07831087, -1.12800291],\n",
       "        [-1.7120799 , -1.14098773, -0.24576987, ..., -0.42090759,\n",
       "          0.44075773, -0.31893459],\n",
       "        [-0.17933413, -0.22959093, -1.29356472, ..., -2.34582868,\n",
       "         -1.69156677, -0.05907884],\n",
       "        [-0.0538165 , -0.73448823,  1.71497614, ..., -0.077166  ,\n",
       "         -0.41048103,  1.45566219]],\n",
       "\n",
       "       [[ 0.66124363,  1.42260362,  5.75770502, ...,  4.14295498,\n",
       "          2.23960005,  7.44964487],\n",
       "        [ 2.95818573,  2.91188638,  1.85769587, ...,  5.62937789,\n",
       "          0.84337826,  0.74399418],\n",
       "        [-0.42415981,  0.71802453,  2.50846026, ...,  2.15818482,\n",
       "          3.88151547,  2.36213082],\n",
       "        [ 2.64133173,  2.54081815,  0.41287057, ..., -1.69165736,\n",
       "         -0.38313355,  2.88184231],\n",
       "        [ 2.892367  ,  1.53102354,  6.42995229, ...,  2.84566801,\n",
       "          2.17903795,  5.91132439]]])"
      ]
     },
     "execution_count": 33,
     "metadata": {},
     "output_type": "execute_result"
    }
   ],
   "source": [
    "F"
   ]
  },
  {
   "cell_type": "code",
   "execution_count": 34,
   "metadata": {},
   "outputs": [
    {
     "data": {
      "text/plain": [
       "array([[[-1.16937818, -0.78869819,  1.37885251, ...,  0.57147749,\n",
       "         -0.38019997,  2.22482244],\n",
       "        [-0.02090714, -0.04405681, -0.57115207, ...,  1.31468894,\n",
       "         -1.07831087, -1.12800291],\n",
       "        [-1.7120799 , -1.14098773, -0.24576987, ..., -0.42090759,\n",
       "          0.44075773, -0.31893459],\n",
       "        [-0.17933413, -0.22959093, -1.29356472, ..., -2.34582868,\n",
       "         -1.69156677, -0.05907884],\n",
       "        [-0.0538165 , -0.73448823,  1.71497614, ..., -0.077166  ,\n",
       "         -0.41048103,  1.45566219]],\n",
       "\n",
       "       [[ 0.66124363,  1.42260362,  5.75770502, ...,  4.14295498,\n",
       "          2.23960005,  7.44964487],\n",
       "        [ 2.95818573,  2.91188638,  1.85769587, ...,  5.62937789,\n",
       "          0.84337826,  0.74399418],\n",
       "        [-0.42415981,  0.71802453,  2.50846026, ...,  2.15818482,\n",
       "          3.88151547,  2.36213082],\n",
       "        [ 2.64133173,  2.54081815,  0.41287057, ..., -1.69165736,\n",
       "         -0.38313355,  2.88184231],\n",
       "        [ 2.892367  ,  1.53102354,  6.42995229, ...,  2.84566801,\n",
       "          2.17903795,  5.91132439]]])"
      ]
     },
     "execution_count": 34,
     "metadata": {},
     "output_type": "execute_result"
    }
   ],
   "source": [
    "C"
   ]
  },
  {
   "cell_type": "code",
   "execution_count": null,
   "metadata": {},
   "outputs": [],
   "source": []
  }
 ],
 "metadata": {
  "kernelspec": {
   "display_name": "Python 3",
   "language": "python",
   "name": "python3"
  },
  "language_info": {
   "codemirror_mode": {
    "name": "ipython",
    "version": 3
   },
   "file_extension": ".py",
   "mimetype": "text/x-python",
   "name": "python",
   "nbconvert_exporter": "python",
   "pygments_lexer": "ipython3",
   "version": "3.8.3"
  }
 },
 "nbformat": 4,
 "nbformat_minor": 4
}
