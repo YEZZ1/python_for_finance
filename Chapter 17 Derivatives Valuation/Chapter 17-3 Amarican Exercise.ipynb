{
 "cells": [
  {
   "cell_type": "markdown",
   "metadata": {},
   "source": [
    "**가치 평가 클래스**"
   ]
  },
  {
   "cell_type": "code",
   "execution_count": 1,
   "metadata": {},
   "outputs": [],
   "source": [
    "#\n",
    "# Dx Library Valuation\n",
    "# valuation_mcs_american.py\n",
    "#\n",
    "import numpy as np\n",
    "\n",
    "from valuation_class import valuation_class\n",
    "\n",
    "class valuation_mcs_american(valuation_class):\n",
    "    '''\n",
    "    단일 요인 몬테카를로 시뮬레이션 사용한 임의의 페이오프에 대한 아메리칸 옵션 가치 평가 클래스\n",
    "    \n",
    "    메서드\n",
    "    ----\n",
    "    generate_payoff:\n",
    "        주어진 경로와 페이오프 함수를 이용하여 페이오프 계산\n",
    "    present_value:\n",
    "        롱스태프-슈바르츠 방식에 따른 현재 가치 반환\n",
    "    '''\n",
    "    \n",
    "    def generate_payoff(self,fixed_seed = False):\n",
    "        try:\n",
    "            strike = self.strike\n",
    "        except:\n",
    "            pass\n",
    "        paths = self.underlying.get_instrument_values(fixed_seed=fixed_seed)\n",
    "        time_grid = self.underlying.time_grid\n",
    "        try:\n",
    "            time_index_start = int(np.where(time_grid == self.pricing_date)[0])\n",
    "            time_index_end = int(np.where(time_grid == self.maturity)[0])\n",
    "        except:\n",
    "            print(\"Maturity date not in time grid of underlying.\")\n",
    "        instrument_values = paths[time_index_start:time_index_end + 1]\n",
    "        try:\n",
    "            payoff = eval(self.payoff_func)\n",
    "            return instrument_values, payoff, time_index_start, time_index_end\n",
    "        except :\n",
    "            print('Error evaluating payoff function')\n",
    "    \n",
    "    def present_value(self,accuracy = 6, fixed_seed = False, bf = 5, full = False):\n",
    "        instrument_values, inner_values, time_index_start, time_index_end = self.generate_payoff(fixed_seed=fixed_seed)\n",
    "        time_list = self.underlying.time_grid[time_index_start:time_index_end+1]\n",
    "        discount_factors = self.discount_curve.get_discount_factors(time_list,dtobjects = True)\n",
    "        V = inner_values[-1]\n",
    "        for t in range(len(time_list)-2,0,-1):\n",
    "            #주어진 구간 할인율 계산\n",
    "            df = discount_factors[t,1]/discount_factors[t+1,1]\n",
    "            #회귀 분석 단계\n",
    "            rg = np.polyfit(instrument_values[t], V * df, bf)\n",
    "            #경로에 대한 보유 가치 계산\n",
    "            C = np.polyval(rg,instrument_values[t])\n",
    "            #최적 결정 단계\n",
    "            #조건 만족시 내재가치, 아니면 보유가치\n",
    "            V = np.where(inner_values[t]>C,inner_values[t],V*df)\n",
    "        df = discount_factors[0,1]/discount_factors[1,1]\n",
    "        result = df*np.sum(V)/len(V)\n",
    "        if full:\n",
    "            return round(result,accuracy),df*V\n",
    "        else:\n",
    "            return round(result,accuracy)"
   ]
  },
  {
   "cell_type": "markdown",
   "metadata": {},
   "source": [
    "**ex**"
   ]
  },
  {
   "cell_type": "code",
   "execution_count": 2,
   "metadata": {},
   "outputs": [],
   "source": [
    "from dx import *"
   ]
  },
  {
   "cell_type": "code",
   "execution_count": 3,
   "metadata": {},
   "outputs": [],
   "source": [
    "me_gbm = market_environment('me_gbm', dt.datetime(2015, 1, 1))"
   ]
  },
  {
   "cell_type": "code",
   "execution_count": 4,
   "metadata": {},
   "outputs": [],
   "source": [
    "me_gbm.add_constant('initial_value', 36.)\n",
    "me_gbm.add_constant('volatility', 0.2)\n",
    "me_gbm.add_constant('final_date', dt.datetime(2016, 12, 31))\n",
    "me_gbm.add_constant('currency', 'EUR')\n",
    "me_gbm.add_constant('frequency', 'W')\n",
    "# weekly frequency\n",
    "me_gbm.add_constant('paths', 50000)"
   ]
  },
  {
   "cell_type": "code",
   "execution_count": 5,
   "metadata": {},
   "outputs": [],
   "source": [
    "csr = constant_short_rate('csr', 0.06)"
   ]
  },
  {
   "cell_type": "code",
   "execution_count": 6,
   "metadata": {},
   "outputs": [],
   "source": [
    "me_gbm.add_curve('discount_curve',csr)"
   ]
  },
  {
   "cell_type": "code",
   "execution_count": 7,
   "metadata": {},
   "outputs": [],
   "source": [
    "gbm = geometric_brownian_motion('gbm',me_gbm)"
   ]
  },
  {
   "cell_type": "code",
   "execution_count": 8,
   "metadata": {},
   "outputs": [],
   "source": [
    "payoff_func = 'np.maximum(strike-instrument_values,0)'"
   ]
  },
  {
   "cell_type": "code",
   "execution_count": 9,
   "metadata": {},
   "outputs": [],
   "source": [
    "me_am_put = market_environment('me_am_put', dt.datetime(2015, 1, 1))"
   ]
  },
  {
   "cell_type": "code",
   "execution_count": 10,
   "metadata": {},
   "outputs": [],
   "source": [
    "me_am_put.add_constant('maturity', dt.datetime(2015, 12, 31))\n",
    "me_am_put.add_constant('strike', 40.)\n",
    "me_am_put.add_constant('currency', 'EUR')"
   ]
  },
  {
   "cell_type": "code",
   "execution_count": 11,
   "metadata": {},
   "outputs": [],
   "source": [
    "am_put = valuation_mcs_american('am_put',underlying=gbm,\n",
    "                               mar_env=me_am_put,payoff_func=payoff_func)"
   ]
  },
  {
   "cell_type": "code",
   "execution_count": 12,
   "metadata": {},
   "outputs": [
    {
     "name": "stdout",
     "output_type": "stream",
     "text": [
      "Wall time: 3.33 s\n"
     ]
    },
    {
     "data": {
      "text/plain": [
       "4.64108"
      ]
     },
     "execution_count": 12,
     "metadata": {},
     "output_type": "execute_result"
    }
   ],
   "source": [
    "%time am_put.present_value(fixed_seed=True,bf = 5)"
   ]
  },
  {
   "cell_type": "code",
   "execution_count": 13,
   "metadata": {},
   "outputs": [
    {
     "name": "stdout",
     "output_type": "stream",
     "text": [
      "Wall time: 52.4 s\n"
     ]
    }
   ],
   "source": [
    "%%time\n",
    "ls_table = []\n",
    "for initial_value in(36.,38.,40.,42.,44.):\n",
    "    for volatility in(0.2,0.4):\n",
    "        for maturity in (dt.datetime(2015,12,31),\n",
    "                        dt.datetime(2016,12,31)):\n",
    "            am_put.update(initial_value = initial_value,\n",
    "                         volatility=volatility,maturity=maturity)\n",
    "            ls_table.append([initial_value,volatility,maturity,am_put.present_value(bf=5)])"
   ]
  },
  {
   "cell_type": "code",
   "execution_count": 16,
   "metadata": {},
   "outputs": [
    {
     "name": "stdout",
     "output_type": "stream",
     "text": [
      "s0|Vola|T|Value\n",
      "----------------------\n",
      "36|0.2|1|4.624\n",
      "36|0.2|2|5.165\n",
      "36|0.4|1|7.502\n",
      "36|0.4|2|9.589\n",
      "38|0.2|1|3.383\n",
      "38|0.2|2|4.060\n",
      "38|0.4|1|6.511\n",
      "38|0.4|2|8.643\n",
      "40|0.2|1|2.429\n",
      "40|0.2|2|3.149\n",
      "40|0.4|1|5.630\n",
      "40|0.4|2|7.816\n",
      "42|0.2|1|1.675\n",
      "42|0.2|2|2.402\n",
      "42|0.4|1|4.825\n",
      "42|0.4|2|7.054\n",
      "44|0.2|1|1.146\n",
      "44|0.2|2|1.873\n",
      "44|0.4|1|4.171\n",
      "44|0.4|2|6.430\n"
     ]
    }
   ],
   "source": [
    "print('s0|Vola|T|Value')\n",
    "print(22*'-')\n",
    "for r in ls_table:\n",
    "    print('%d|%3.1f|%d|%5.3f'%\\\n",
    "         (r[0],r[1],r[2].year-2014,r[3]))"
   ]
  },
  {
   "cell_type": "code",
   "execution_count": 14,
   "metadata": {},
   "outputs": [
    {
     "data": {
      "text/plain": [
       "-0.4831"
      ]
     },
     "execution_count": 14,
     "metadata": {},
     "output_type": "execute_result"
    }
   ],
   "source": [
    "am_put.update(initial_value=36.)\n",
    "am_put.delta()"
   ]
  },
  {
   "cell_type": "code",
   "execution_count": 15,
   "metadata": {},
   "outputs": [
    {
     "data": {
      "text/plain": [
       "22.6506"
      ]
     },
     "execution_count": 15,
     "metadata": {},
     "output_type": "execute_result"
    }
   ],
   "source": [
    "am_put.vega()"
   ]
  },
  {
   "cell_type": "code",
   "execution_count": null,
   "metadata": {},
   "outputs": [],
   "source": []
  }
 ],
 "metadata": {
  "kernelspec": {
   "display_name": "Python 3",
   "language": "python",
   "name": "python3"
  },
  "language_info": {
   "codemirror_mode": {
    "name": "ipython",
    "version": 3
   },
   "file_extension": ".py",
   "mimetype": "text/x-python",
   "name": "python",
   "nbconvert_exporter": "python",
   "pygments_lexer": "ipython3",
   "version": "3.8.3"
  }
 },
 "nbformat": 4,
 "nbformat_minor": 4
}
