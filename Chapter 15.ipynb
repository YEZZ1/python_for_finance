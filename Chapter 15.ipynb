{
 "cells": [
  {
   "cell_type": "markdown",
   "metadata": {},
   "source": [
    "### 15-2 위험 중립 할인"
   ]
  },
  {
   "cell_type": "markdown",
   "metadata": {},
   "source": [
    "**15-2-1 날짜 모형과 조작**"
   ]
  },
  {
   "cell_type": "code",
   "execution_count": 1,
   "metadata": {},
   "outputs": [],
   "source": [
    "import datetime as dt"
   ]
  },
  {
   "cell_type": "code",
   "execution_count": 2,
   "metadata": {},
   "outputs": [],
   "source": [
    "dates = [dt.datetime(2015,1,1), dt.datetime(2015,7,1),dt.datetime(2016,1,1)]"
   ]
  },
  {
   "cell_type": "code",
   "execution_count": 3,
   "metadata": {},
   "outputs": [
    {
     "data": {
      "text/plain": [
       "(0.4958904109589041, 0.5041095890410959)"
      ]
     },
     "execution_count": 3,
     "metadata": {},
     "output_type": "execute_result"
    }
   ],
   "source": [
    "#1년을 기준으로 한 비율 숫자로 표현하는 방법\n",
    "(dates[1]-dates[0]).days/365. , (dates[2]-dates[1]).days/365"
   ]
  },
  {
   "cell_type": "code",
   "execution_count": 4,
   "metadata": {},
   "outputs": [],
   "source": [
    "fractions = [0.0,0.5,1.0]"
   ]
  },
  {
   "cell_type": "code",
   "execution_count": 5,
   "metadata": {},
   "outputs": [],
   "source": [
    "#위 표현 같지만 완벽하게 같지 않음. 그 이유는 오전0시에 맞추기 힘들어서 > 연비율로 변환할 필요 있음"
   ]
  },
  {
   "cell_type": "code",
   "execution_count": 6,
   "metadata": {},
   "outputs": [],
   "source": [
    "#\n",
    "# DX Library Frame\n",
    "# get_year_deltas.py\n",
    "#\n",
    "import numpy as np\n",
    "\n",
    "def get_year_deltas(date_list, day_count= 365.):\n",
    "    '''\n",
    "    날짜를 1년 비율로 표현한 부동소수점 벡터 반환, 초기값 = 0\n",
    "    \n",
    "    argument\n",
    "    ====\n",
    "    date_list : list or array\n",
    "        datetime 객체모음\n",
    "    day_count : float\n",
    "        1년의 날짜 수 \n",
    "    \n",
    "    return value\n",
    "    ====\n",
    "    delta_list : array\n",
    "        1년 기준 비율\n",
    "    '''\n",
    "    start = date_list[0]\n",
    "    delta_list = [(date-start).days/day_count for date in date_list]\n",
    "    \n",
    "    return np.array(delta_list)"
   ]
  },
  {
   "cell_type": "code",
   "execution_count": 7,
   "metadata": {},
   "outputs": [
    {
     "data": {
      "text/plain": [
       "array([0.        , 0.49589041, 1.        ])"
      ]
     },
     "execution_count": 7,
     "metadata": {},
     "output_type": "execute_result"
    }
   ],
   "source": [
    "dates = [dt.datetime(2015,1,1), dt.datetime(2015,7,1),dt.datetime(2016,1,1)]\n",
    "get_year_deltas(dates)\n",
    "#단기 이자율 모형에서 유용"
   ]
  },
  {
   "cell_type": "markdown",
   "metadata": {},
   "source": [
    "**15-2-2 고정 단기 이자율**"
   ]
  },
  {
   "cell_type": "code",
   "execution_count": 9,
   "metadata": {},
   "outputs": [],
   "source": [
    "#\n",
    "# DX Libarary Frame\n",
    "# constant_short_rate.py\n",
    "#\n",
    "#from get_year_deltas import <-만약 get_year_delta가 .py형태로 있으면 #풀어주기\n",
    "\n",
    "class constant_short_rate(object):\n",
    "    '''\n",
    "    고정 단기 이자율 할인 클래스\n",
    "    \n",
    "    속성\n",
    "    ----\n",
    "    name : string\n",
    "        객체 이름\n",
    "    short_rate : float(positive)\n",
    "        할인에 사용될 고정 이자율\n",
    "    \n",
    "    method\n",
    "    ----\n",
    "    get_discount_factors :\n",
    "        datetime 1년 기준 비율 주어지면 할인율 반환\n",
    "    '''\n",
    "    def __init__(self,name,short_rate):\n",
    "        self.name = name\n",
    "        self.short_rate = short_rate\n",
    "        if short_rate < 0 :\n",
    "            raise ValueError('Short rate negative')\n",
    "    def get_discount_factors(self,date_list,dtobjects = True):\n",
    "        if dtobjects is True : \n",
    "            dlist = get_year_deltas(date_list)\n",
    "        else:\n",
    "            dlist = np.array(date_list)\n",
    "        dflist = np.exp(self.short_rate*np.sort(-dlist))\n",
    "        return np.array((date_list,dflist)).T"
   ]
  },
  {
   "cell_type": "code",
   "execution_count": 10,
   "metadata": {},
   "outputs": [],
   "source": [
    "dates = [dt.datetime(2015,1,1), dt.datetime(2015,7,1),dt.datetime(2016,1,1)]\n",
    "csr = constant_short_rate('csr',0.05)"
   ]
  },
  {
   "cell_type": "code",
   "execution_count": 11,
   "metadata": {},
   "outputs": [
    {
     "data": {
      "text/plain": [
       "array([[datetime.datetime(2015, 1, 1, 0, 0), 0.951229424500714],\n",
       "       [datetime.datetime(2015, 7, 1, 0, 0), 0.9755103387657228],\n",
       "       [datetime.datetime(2016, 1, 1, 0, 0), 1.0]], dtype=object)"
      ]
     },
     "execution_count": 11,
     "metadata": {},
     "output_type": "execute_result"
    }
   ],
   "source": [
    "csr.get_discount_factors(dates)"
   ]
  },
  {
   "cell_type": "code",
   "execution_count": 12,
   "metadata": {},
   "outputs": [
    {
     "data": {
      "text/plain": [
       "array([[0.        , 0.95122942],\n",
       "       [0.49589041, 0.97551034],\n",
       "       [1.        , 1.        ]])"
      ]
     },
     "execution_count": 12,
     "metadata": {},
     "output_type": "execute_result"
    }
   ],
   "source": [
    "#1년 기준 비율도 출력 가능 (1년 기준 비율, 할인율 대응)\n",
    "deltas = get_year_deltas(dates)\n",
    "csr.get_discount_factors(deltas,dtobjects=False)"
   ]
  },
  {
   "cell_type": "markdown",
   "metadata": {},
   "source": [
    "### 15-3 시장 환경\n",
    "사전 객체 사용법(4장 참조)"
   ]
  },
  {
   "cell_type": "code",
   "execution_count": 14,
   "metadata": {},
   "outputs": [],
   "source": [
    "#\n",
    "# DX Libarary Frame\n",
    "# market_environment.py\n",
    "#\n",
    "class market_environment(object):\n",
    "    '''\n",
    "    가치평가와 관련된 시장 환경 모형을 위한 class\n",
    "    \n",
    "    속성\n",
    "    ---\n",
    "    name : string \n",
    "        시장 환경 이름\n",
    "    pricing_date : datetime object\n",
    "        시장 환경 날짜\n",
    "        \n",
    "    method\n",
    "    ---\n",
    "    add_constant :\n",
    "        상수 추가(모형 파라미터)\n",
    "    get_constant : \n",
    "        상수 반환\n",
    "    add_list :\n",
    "        (기초자산 등) 리스트 추가\n",
    "    get_list :\n",
    "        list 반환\n",
    "    add_curve :\n",
    "        시장 커브 추가 ( ex 이자율 커브)\n",
    "    get_curve :\n",
    "        시장 커브 반환\n",
    "    add_environment :\n",
    "        상수, list , curve 등 전체 시장 환경 추가 or 갱신\n",
    "    '''\n",
    "    \n",
    "    def __init__(self,name,pricing_date):\n",
    "        self.name = name\n",
    "        self.pricing_date = pricing_date\n",
    "        self.constants = {}\n",
    "        self.lists = {}\n",
    "        self.curves = {}\n",
    "    \n",
    "    def add_constant(self, key, constant):\n",
    "        self.constants[key] = constant\n",
    "    \n",
    "    def get_constant(self, key): \n",
    "        return self.constants[key]\n",
    "    \n",
    "    def add_list(self,key,list_object) :\n",
    "        self.lists[key] = list_object\n",
    "    \n",
    "    def get_list(self,key) :\n",
    "        return self.lists[key]\n",
    "    \n",
    "    def add_curve(self,key,curve) :\n",
    "        self.curves[key] = curve\n",
    "        \n",
    "    def get_curve(self,key) :\n",
    "        return self.curves[key]\n",
    "    \n",
    "    def add_environment(self, env) :\n",
    "        #존재하는 값이 있으면 갱신\n",
    "        for key in env.constants:\n",
    "            self.constants[key] = env.constants[key]\n",
    "        for key in env.lists :\n",
    "            self.lists[key] = env.lists[key]\n",
    "        for key in env.curves:\n",
    "            self.curves[key]= env.curves[key]"
   ]
  },
  {
   "cell_type": "code",
   "execution_count": 15,
   "metadata": {},
   "outputs": [
    {
     "data": {
      "text/plain": [
       "['AAPL', 'MSFT', 'FB']"
      ]
     },
     "execution_count": 15,
     "metadata": {},
     "output_type": "execute_result"
    }
   ],
   "source": [
    "#특별한 사항 없지만 instant 사용하는 간단한 예제\n",
    "me_1 = market_environment('me_1',dt.datetime(2015,1,1))\n",
    "me_1.add_list('symbols',['AAPL','MSFT','FB'])\n",
    "me_1.get_list('symbols')"
   ]
  },
  {
   "cell_type": "code",
   "execution_count": 17,
   "metadata": {},
   "outputs": [
    {
     "data": {
      "text/plain": [
       "<__main__.constant_short_rate at 0x11366efc160>"
      ]
     },
     "execution_count": 17,
     "metadata": {},
     "output_type": "execute_result"
    }
   ],
   "source": [
    "me_2 = market_environment('me_2',dt.datetime(2015,1,1))\n",
    "me_2.add_constant('volatility',0.2)\n",
    "me_2.add_curve('short_rate',csr) # add instance of discounting class\n",
    "me_2.get_curve('short_rate')"
   ]
  },
  {
   "cell_type": "code",
   "execution_count": 18,
   "metadata": {},
   "outputs": [],
   "source": [
    "me_1.add_environment(me_2) #add complete environment"
   ]
  },
  {
   "cell_type": "code",
   "execution_count": 19,
   "metadata": {},
   "outputs": [
    {
     "data": {
      "text/plain": [
       "<__main__.constant_short_rate at 0x11366efc160>"
      ]
     },
     "execution_count": 19,
     "metadata": {},
     "output_type": "execute_result"
    }
   ],
   "source": [
    "me_1.get_curve('short_rate')"
   ]
  },
  {
   "cell_type": "code",
   "execution_count": 20,
   "metadata": {},
   "outputs": [
    {
     "data": {
      "text/plain": [
       "({'volatility': 0.2},\n",
       " {'symbols': ['AAPL', 'MSFT', 'FB']},\n",
       " {'short_rate': <__main__.constant_short_rate at 0x11366efc160>})"
      ]
     },
     "execution_count": 20,
     "metadata": {},
     "output_type": "execute_result"
    }
   ],
   "source": [
    "me_1.constants, me_1.lists, me_1.curves"
   ]
  },
  {
   "cell_type": "code",
   "execution_count": null,
   "metadata": {},
   "outputs": [],
   "source": []
  }
 ],
 "metadata": {
  "kernelspec": {
   "display_name": "Python 3",
   "language": "python",
   "name": "python3"
  },
  "language_info": {
   "codemirror_mode": {
    "name": "ipython",
    "version": 3
   },
   "file_extension": ".py",
   "mimetype": "text/x-python",
   "name": "python",
   "nbconvert_exporter": "python",
   "pygments_lexer": "ipython3",
   "version": "3.8.3"
  }
 },
 "nbformat": 4,
 "nbformat_minor": 4
}
