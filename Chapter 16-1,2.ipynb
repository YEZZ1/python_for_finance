{
 "cells": [
  {
   "cell_type": "markdown",
   "metadata": {},
   "source": [
    "### 16-1 난수 생성"
   ]
  },
  {
   "cell_type": "code",
   "execution_count": 2,
   "metadata": {},
   "outputs": [],
   "source": [
    "import numpy as np\n",
    "\n",
    "def sn_random_numbers(shape,antithetic = True, moment_matching = True,\n",
    "                     fixed_seed = False) :\n",
    "    '''\n",
    "    shape 인수와 같은 shpae를 가지면서 표준 정규분포를 따르는 (의사)난수 배열을 반환\n",
    "    \n",
    "    인수\n",
    "    ----\n",
    "    shape : tuple (o,n,m)\n",
    "        shape (o,n,m) 형태의 배열 생성\n",
    "    antithetic : Boolean\n",
    "        대조변수 생성\n",
    "    moment_matching : Boolean\n",
    "        1차 및 2차 모멘트 정합\n",
    "    fixed_seed : Boolean\n",
    "        seed를 고정하기 위한 플래그\n",
    "    \n",
    "    반환값\n",
    "    ----\n",
    "    ran : (o,n,m) 형태의 의사 난수 배열\n",
    "    '''\n",
    "    if fixed_seed :\n",
    "        np.random.seed(1000)\n",
    "    if antithetic :\n",
    "        ran = np.random.standard_normal((shape[0],shape[1],shape[2]/2))\n",
    "        ran = np.concatenate((ran,-ran),axis = 2)\n",
    "    else:\n",
    "        ran = np.random.standard_normal(shape)\n",
    "    if moment_matching  :\n",
    "        ran = ran-np.mean(ran)\n",
    "        ran = ran/np.std(ran)\n",
    "    if shape[0] == 1 :\n",
    "        return ran[0]\n",
    "    else :\n",
    "        return ran"
   ]
  },
  {
   "cell_type": "code",
   "execution_count": 4,
   "metadata": {},
   "outputs": [],
   "source": [
    "snrn = sn_random_numbers((2,2,2),antithetic =False,\n",
    "                        moment_matching = False,\n",
    "                        fixed_seed = True)"
   ]
  },
  {
   "cell_type": "code",
   "execution_count": 5,
   "metadata": {},
   "outputs": [
    {
     "data": {
      "text/plain": [
       "array([[[-0.8044583 ,  0.32093155],\n",
       "        [-0.02548288,  0.64432383]],\n",
       "\n",
       "       [[-0.30079667,  0.38947455],\n",
       "        [-0.1074373 , -0.47998308]]])"
      ]
     },
     "execution_count": 5,
     "metadata": {},
     "output_type": "execute_result"
    }
   ],
   "source": [
    "snrn"
   ]
  },
  {
   "cell_type": "code",
   "execution_count": 6,
   "metadata": {},
   "outputs": [],
   "source": [
    "snrn_mm = sn_random_numbers((2,3,2),antithetic=False,\n",
    "                           moment_matching= True,\n",
    "                           fixed_seed= True)"
   ]
  },
  {
   "cell_type": "code",
   "execution_count": 7,
   "metadata": {},
   "outputs": [
    {
     "data": {
      "text/plain": [
       "array([[[-1.47414161,  0.67072537],\n",
       "        [ 0.01049828,  1.28707482],\n",
       "        [-0.51421897,  0.80136066]],\n",
       "\n",
       "       [[-0.14569767, -0.85572818],\n",
       "        [ 1.19313679, -0.82653845],\n",
       "        [ 1.3308292 , -1.47730025]]])"
      ]
     },
     "execution_count": 7,
     "metadata": {},
     "output_type": "execute_result"
    }
   ],
   "source": [
    "snrn_mm"
   ]
  },
  {
   "cell_type": "code",
   "execution_count": 8,
   "metadata": {},
   "outputs": [
    {
     "data": {
      "text/plain": [
       "(3.700743415417188e-17, 1.0)"
      ]
     },
     "execution_count": 8,
     "metadata": {},
     "output_type": "execute_result"
    }
   ],
   "source": [
    "snrn_mm.mean(), snrn_mm.std()"
   ]
  },
  {
   "cell_type": "markdown",
   "metadata": {},
   "source": [
    "### 16-2 Genaral Simulation Class"
   ]
  },
  {
   "cell_type": "code",
   "execution_count": 9,
   "metadata": {},
   "outputs": [],
   "source": [
    "#DX Library Simulation\n",
    "#simulation_class.py\n",
    "import numpy as np\n",
    "import pandas as pd\n",
    "\n",
    "class simulation_class(object):\n",
    "    '''\n",
    "    given base method for simulation class\n",
    "    \n",
    "    속성\n",
    "    ----\n",
    "    name: string\n",
    "        객체이름\n",
    "    mar_env : instance of market_environment\n",
    "        시뮬레이션에 필요한 시장환경자료\n",
    "    corr : Boolean\n",
    "        다른 모형 객채와 상관관계 있으면 True\n",
    "    \n",
    "    method\n",
    "    ----\n",
    "    generate_time_grid :\n",
    "        시뮬레이션 시간 그리드 반환\n",
    "    get_instrument_values :\n",
    "        현재 증권 가치(배열) 변환\n",
    "    '''\n",
    "    def __init__(self,name,mar_env,corr):\n",
    "        try:\n",
    "            self.name = name\n",
    "            self.pricing_date = mar_env.pricing_date\n",
    "            self.initial_value = mar_env.get_constant('inital_value')\n",
    "            self.volatility = mar_env.get_constant('volatility')\n",
    "            self.final_date = mar_env.get_constant('final_date')\n",
    "            self.currency = mar_env.get_constant('currency')\n",
    "            self.frequency = mar_env.get_constant('frequency')\n",
    "            self.paths = mar_env.get_constant('paths')\n",
    "            self.discount_curve = mar_env.get_curve('discount_curve')\n",
    "            try:\n",
    "                # if mar_env include time_grid then return this value\n",
    "                # 포폴 가치 평가용\n",
    "                self.time_grid = mar_env.get_list('time_grid')\n",
    "            except :\n",
    "                self.time_grid = None\n",
    "            try:\n",
    "                # 만약 특별한 날짜 있으면 여기 추가\n",
    "                self.special_dates = mar_env.get_list('special_dates')\n",
    "            except:\n",
    "                self.special_dates = []\n",
    "            self.instrument_values = None\n",
    "            self.correlated = corr\n",
    "            if corr is True :\n",
    "                #상관관계가 있는 포폴에만 필요\n",
    "                self.cholesky_matrix = mar_env.get_list('cholesky_matrix')\n",
    "                self.rn_set = mar_env.get_list('rn_set')[self.name]\n",
    "                self.random_numbers = mar_env.get_list('random_numbers')\n",
    "        except:\n",
    "            print('Error parsing market environmnet.')\n",
    "            \n",
    "    def generate_time_grid(self):\n",
    "        start = self.pricing_date\n",
    "        end = self.final_date\n",
    "        #pandas date_range함수 ( day : B, week : W, month : M)\n",
    "        time_grid = pd.date_range(start = start, end = end, freq = self.frequency).to_pydatetime()\n",
    "        time_grid = list(time_grid)\n",
    "        # 시작,끝,그리고 특별 날짜를 time_grid에 추가\n",
    "        if start not in time_grid:\n",
    "            time_grid.insert(0,start)\n",
    "            #시작일 리스트에 없음 추가\n",
    "        if end not in time_grid :\n",
    "            time_grid.insert(end)\n",
    "            #end 리스트에 없음 추가\n",
    "        if len(self.special_dates) > 0 :\n",
    "            #모든 특별 날짜 추가\n",
    "            time_grid.extend(self.special_dates)\n",
    "            #복제추가\n",
    "            time_grid = list(set(time_grid))\n",
    "            #list 정렬\n",
    "            time_grid.sort()\n",
    "        self.time_grid = np.array(time_grid)\n",
    "    \n",
    "    def get_instrument_values(self,fixed_seed = True):\n",
    "        if self.instrument_values is None :\n",
    "            #증권가 없음 시뮬레이션 시작\n",
    "            self.generate_paths(fixed_seed = fixed_seed, day_count = 365.)\n",
    "        elif fixed_seed is False:\n",
    "            #다시 시뮬\n",
    "            self.generate_paths(fixed_seed = fixed_seed, day_count = 365.)\n",
    "        return self.instrument_values"
   ]
  },
  {
   "cell_type": "code",
   "execution_count": null,
   "metadata": {},
   "outputs": [],
   "source": []
  }
 ],
 "metadata": {
  "kernelspec": {
   "display_name": "Python 3",
   "language": "python",
   "name": "python3"
  },
  "language_info": {
   "codemirror_mode": {
    "name": "ipython",
    "version": 3
   },
   "file_extension": ".py",
   "mimetype": "text/x-python",
   "name": "python",
   "nbconvert_exporter": "python",
   "pygments_lexer": "ipython3",
   "version": "3.8.3"
  }
 },
 "nbformat": 4,
 "nbformat_minor": 4
}
