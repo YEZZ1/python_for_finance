{
 "cells": [
  {
   "cell_type": "code",
   "execution_count": 1,
   "metadata": {},
   "outputs": [],
   "source": [
    "#\n",
    "# Dx Library Portfolio\n",
    "# derivatives_position.py\n",
    "#\n",
    "\n",
    "class derivatives_position(object):\n",
    "    '''\n",
    "    파생상품 포지션 모형 class\n",
    "    \n",
    "    속성\n",
    "    ----\n",
    "    name : string\n",
    "        객체 이름\n",
    "    quantity : float\n",
    "        포지션을 이루는 자산이나 파생상품의 숫자\n",
    "    underlying : string\n",
    "        파생상품 자산/리스트 요인의 이름\n",
    "    mar_env : instance of market_environment\n",
    "        가치 평가 클래스와 관련된 상수, 리스트, 커브\n",
    "    otype : string\n",
    "        사용할 가치 평가 클래스\n",
    "    payoff_func : string\n",
    "        파생상품의 페이오프를 나타내는 문자열\n",
    "        \n",
    "    method\n",
    "    ----\n",
    "    get_info :\n",
    "        파생상품의 페이오프를 나타내는 문자열\n",
    "    '''\n",
    "    \n",
    "    def __init__(self,name,quantity,underlying,mar_env,otype,payoff_func):\n",
    "        self.name = name\n",
    "        self.quantity = quantity\n",
    "        self.underlying = underlying\n",
    "        self.mar_env = mar_env\n",
    "        self.otype = otype\n",
    "        self.payoff_func = payoff_func\n",
    "    \n",
    "    def get_info(self):\n",
    "        print('NAME')\n",
    "        print(self.name,'\\n')\n",
    "        print('QUANTITY')\n",
    "        print(self.quantity,'\\n')\n",
    "        print('UNDERLYING')\n",
    "        print(self.underlying,'\\n')\n",
    "        print('MARKET ENVIRONMENT')\n",
    "        print('\\n**Constants**')\n",
    "        for key, value in self.mar_env.constants.items():\n",
    "            print(key,value)\n",
    "        print('\\n**Lists**')\n",
    "        for key, value in self.mar_env.lists.items():\n",
    "            print(key,value)\n",
    "        print('\\n**Curves**')\n",
    "        for key, value in self.mar_env.curves.items():\n",
    "            print(key,value)\n",
    "        print('\\nOPTION TYPE')\n",
    "        print(self.otype,'\\n')\n",
    "        print('PAYOFF FUNCTION')\n",
    "        print(self.payoff_func)"
   ]
  },
  {
   "cell_type": "code",
   "execution_count": 2,
   "metadata": {},
   "outputs": [],
   "source": [
    "from dx import *"
   ]
  },
  {
   "cell_type": "code",
   "execution_count": 3,
   "metadata": {},
   "outputs": [],
   "source": [
    "me_gbm = market_environment('me_gbm',dt.datetime(2015,1,1))"
   ]
  },
  {
   "cell_type": "code",
   "execution_count": 4,
   "metadata": {},
   "outputs": [],
   "source": [
    "me_gbm.add_constant('initial_value',36.)\n",
    "me_gbm.add_constant('volatility',0.2)\n",
    "me_gbm.add_constant('currency','EUR')"
   ]
  },
  {
   "cell_type": "code",
   "execution_count": 5,
   "metadata": {},
   "outputs": [],
   "source": [
    "me_gbm.add_constant('model','gbm')"
   ]
  },
  {
   "cell_type": "code",
   "execution_count": 6,
   "metadata": {},
   "outputs": [],
   "source": [
    "me_am_put = market_environment('me_am_put',dt.datetime(2015,1,1))"
   ]
  },
  {
   "cell_type": "code",
   "execution_count": 7,
   "metadata": {},
   "outputs": [],
   "source": [
    "me_am_put.add_constant('maturity',dt.datetime(2015,12,31))\n",
    "me_am_put.add_constant('strike',40.)\n",
    "me_am_put.add_constant('currency','EUR')"
   ]
  },
  {
   "cell_type": "code",
   "execution_count": 8,
   "metadata": {},
   "outputs": [],
   "source": [
    "payoff_func = 'np.maximum(strike-instrument_values,0)'"
   ]
  },
  {
   "cell_type": "code",
   "execution_count": 9,
   "metadata": {},
   "outputs": [],
   "source": [
    "am_put_pos = derivatives_position(name = 'am_put_pos',quantity = 3, underlying='gbm',mar_env = me_am_put,otype = 'American',\n",
    "                                 payoff_func = payoff_func)"
   ]
  },
  {
   "cell_type": "code",
   "execution_count": 10,
   "metadata": {},
   "outputs": [
    {
     "name": "stdout",
     "output_type": "stream",
     "text": [
      "NAME\n",
      "am_put_pos \n",
      "\n",
      "QUANTITY\n",
      "3 \n",
      "\n",
      "UNDERLYING\n",
      "gbm \n",
      "\n",
      "MARKET ENVIRONMENT\n",
      "\n",
      "**Constants**\n",
      "maturity 2015-12-31 00:00:00\n",
      "strike 40.0\n",
      "currency EUR\n",
      "\n",
      "**Lists**\n",
      "\n",
      "**Curves**\n",
      "\n",
      "OPTION TYPE\n",
      "American \n",
      "\n",
      "PAYOFF FUNCTION\n",
      "np.maximum(strike-instrument_values,0)\n"
     ]
    }
   ],
   "source": [
    "am_put_pos.get_info()"
   ]
  },
  {
   "cell_type": "code",
   "execution_count": null,
   "metadata": {},
   "outputs": [],
   "source": []
  }
 ],
 "metadata": {
  "kernelspec": {
   "display_name": "Python 3",
   "language": "python",
   "name": "python3"
  },
  "language_info": {
   "codemirror_mode": {
    "name": "ipython",
    "version": 3
   },
   "file_extension": ".py",
   "mimetype": "text/x-python",
   "name": "python",
   "nbconvert_exporter": "python",
   "pygments_lexer": "ipython3",
   "version": "3.8.3"
  }
 },
 "nbformat": 4,
 "nbformat_minor": 4
}
