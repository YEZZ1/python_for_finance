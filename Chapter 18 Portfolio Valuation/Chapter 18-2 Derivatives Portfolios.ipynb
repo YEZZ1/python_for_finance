{
 "cells": [
  {
   "cell_type": "code",
   "execution_count": 1,
   "metadata": {},
   "outputs": [],
   "source": [
    "#\n",
    "# Dx Library Portfolio\n",
    "# derivatives_portfolio.py\n",
    "#\n",
    "import numpy as np\n",
    "import pandas as pd\n",
    "\n",
    "from dx import *\n",
    "\n",
    "#위험 요인 모형화에 필요한 모형\n",
    "models = {'gbm' : geometric_brownian_motion,\n",
    "         'jd' : jump_diffusion,\n",
    "         'srd' : square_root_diffusion}\n",
    "\n",
    "# 행사 유형\n",
    "otypes = {'European' : valuation_mcs_european,\n",
    "         'American' : valuation_mcs_american}\n",
    "\n",
    "class derivatives_portfolio(object):\n",
    "    '''\n",
    "    파생상품 포지션 포트폴리오 생성용 클래스\n",
    "    속성\n",
    "    ====\n",
    "    name : str\n",
    "        객체 이름\n",
    "    positions : dict\n",
    "        포지션용 사전\n",
    "    val_env : market_environment\n",
    "        가치 평가용 시장 환겨\n",
    "    assets : dict\n",
    "        각 자산용 시장 환경 사전\n",
    "    correlations : list\n",
    "        자산 간의 상관 관계\n",
    "    fixed_seed : Boolean\n",
    "        랜덤 변수용 시드 플래그\n",
    "    \n",
    "    메서드\n",
    "    ====\n",
    "    get_positions :\n",
    "        포트폴리오의 단일 포지션에 대한 정보 출력\n",
    "    get_statistics :\n",
    "        포트폴리오 통계를 pandas Dataframe 객체로 출력\n",
    "    '''\n",
    "    \n",
    "    def __init__(self,name,positions,val_env,assets,\n",
    "                correlations = None, fixed_seed = False):\n",
    "        self.name = name\n",
    "        self.positions = positions\n",
    "        self.val_env = val_env\n",
    "        self.assets = assets\n",
    "        self.underlyings = set()\n",
    "        self.correlations = correlations\n",
    "        self.time_grid = None\n",
    "        self.underlying_objects = {}\n",
    "        self.valuation_objects = {}\n",
    "        self.fixed_seed = fixed_seed\n",
    "        self.special_dates = []\n",
    "        for pos in self.positions:\n",
    "            #가장 빠른 starting_date 결정\n",
    "            self.val_env.constants['starting_date']= min(self.val_env.constants['starting_date'],positions[pos].mar_env.pricing_date)\n",
    "            #관련 있는 최신 날짜 설정\n",
    "            self.val_env.constants['final_date'] = max(self.val_env.constants['final_date'],\n",
    "                                                      positions[pos].mar_env.constants['maturity'])\n",
    "            #모든 기초자산을 집합으로 모아 중복 제거\n",
    "            self.underlyings.add(positions[pos].underlying)\n",
    "        # time grid 생성\n",
    "        start = self.val_env.constants['starting_date']\n",
    "        end = self.val_env.constants['final_date']\n",
    "        time_grid = pd.date_range(start = start,end = end, freq = self.val_env.constants['frequency']).to_pydatetime()\n",
    "        time_grid = list(time_grid)\n",
    "        for pos in self.positions:\n",
    "            maturity_date = positions[pos].mar_env.constants['maturity']\n",
    "            if maturity_date not in time_grid:\n",
    "                time_grid.insert(0,maturity_date)\n",
    "                self.special_dates.append(maturity_date)\n",
    "        if start not in time_grid:\n",
    "            time_grid.insert(0,start)\n",
    "        if end not in time_grid:\n",
    "            time_grid.append(end)\n",
    "        #중복 제거\n",
    "        time_grid = list(set(time_grid))\n",
    "        #time_grid 안 날짜 정렬\n",
    "        time_grid.sort()\n",
    "        self.time_grid = np.array(time_grid)\n",
    "        self.val_env.add_list('time_grid',self.time_grid)\n",
    "        if correlations is not None:\n",
    "            #상관관계 계산\n",
    "            ul_list = sorted(self.underlyings)\n",
    "            correlation_matrix = np.zeros((len(ul_list),len(ul_list)))\n",
    "            np.fill_diagonal(correlation_matrix,1.0)\n",
    "            correlation_matrix = pd.DataFrame(correlation_matrix,\n",
    "                            index = ul_list,columns = ul_list)\n",
    "            for i,j ,corr in correlations:\n",
    "                corr = min(corr,0.99999999999)\n",
    "                #상관관계 매트릭스 채우기\n",
    "                correlation_matrix.loc[i,j] = corr\n",
    "                correlation_matrix.loc[j,i] = corr\n",
    "            #촐레스키\n",
    "            cholesky_matrix = np.linalg.cholesky(np.array(correlation_matrix))\n",
    "            \n",
    "            #각 기초자산과 랜덤 넘버 슬라이스에 대한 인덱스 위치 저장\n",
    "            rn_set = {asset : ul_list.index(asset) for asset in self.underlyings}\n",
    "            #(corr있을경우) 랜덤 넘버 배열\n",
    "            random_numbers = sn_random_numbers((len(rn_set),\n",
    "                                                len(self.time_grid),\n",
    "                                                self.val_env.constants['paths']),\n",
    "                                               fixed_seed=self.fixed_seed)\n",
    "            # 모든 기초자산이 공유하는 가치 계산용 환경 정보 추가\n",
    "            self.val_env.add_list('cholesky_matrix', cholesky_matrix)\n",
    "            self.val_env.add_list('random_numbers', random_numbers)\n",
    "            self.val_env.add_list('rn_set', rn_set)\n",
    "        \n",
    "        for asset in self.underlyings:\n",
    "            # 각 자산에 대한 시장 환경 선택\n",
    "            mar_env = self.assets[asset]\n",
    "            # 가치 계산용 환경 정보 추가\n",
    "            mar_env.add_environment(val_env)\n",
    "            # 시뮬레이션 클래스 선택\n",
    "            model = models[mar_env.constants['model']]\n",
    "            # 시뮬레이션 객체 생성\n",
    "            if correlations is not None:\n",
    "                self.underlying_objects[asset] = model(asset,mar_env,\n",
    "                                                      corr = True)\n",
    "            else:\n",
    "                self.underlying_objects[asset] = model(asset,mar_env,\n",
    "                                                      corr = False)\n",
    "        for pos in positions:\n",
    "            #가치 평가 클래스 선택\n",
    "            val_class = otypes[positions[pos].otype]\n",
    "            #시장 환경 및 가치 계산용 환경 선택\n",
    "            mar_env = positions[pos].mar_env\n",
    "            mar_env.add_environment(self.val_env)\n",
    "            #가치 계산용 클래스 인스턴스 생성\n",
    "            self.valuation_objects[pos] = val_class(name=positions[pos].name,\n",
    "                                                   mar_env = mar_env,\n",
    "                                                   underlying = self.underlying_objects[positions[pos].underlying],\n",
    "                                                   payoff_func = positions[pos].payoff_func)\n",
    "    def get_positions(self):\n",
    "        '''\n",
    "        p/f 내의 모든 파생상품 포지션에 대한 정보를 얻기 위한 메서드\n",
    "        '''\n",
    "        for pos in self.positions:\n",
    "            bar = '\\n'+50*'-'\n",
    "            print(bar)\n",
    "            self.positions[pos].get_info()\n",
    "            print(bar)\n",
    "    def get_statistics(self,fixed_seed = False):\n",
    "        '''p/f 통계 제공'''\n",
    "        res_list = []\n",
    "        #모든 포지션에 대해 반복\n",
    "        for pos, value in self.valuation_objects.items():\n",
    "            p = self.positions[pos]\n",
    "            pv = value.present_value(fixed_seed = fixed_seed)\n",
    "            res_list.append([p.name,\n",
    "                            p.quantity,\n",
    "                            #단일 증권에 대한 모든 현재 가치 계산\n",
    "                            pv,\n",
    "                            value.currency,\n",
    "                            #단일 증권 가치 X 수량\n",
    "                            pv * p.quantity,\n",
    "                            #calculate delta position\n",
    "                            value.delta()*p.quantity,\n",
    "                            #calculate vega position\n",
    "                            value.vega()*p.quantity])\n",
    "        #모든 결과에 대한 pandas DataFrame 객체 생성\n",
    "        res_df = pd.DataFrame(res_list,\n",
    "                             columns = ['name','quant.','value','curr.',\n",
    "                                       'pos_value','pos_delta','pos_vega'])\n",
    "        return res_df"
   ]
  },
  {
   "cell_type": "markdown",
   "metadata": {},
   "source": [
    "**ex**"
   ]
  },
  {
   "cell_type": "code",
   "execution_count": 2,
   "metadata": {},
   "outputs": [],
   "source": [
    "from dx import * \n",
    "from derivatives_position import derivatives_position"
   ]
  },
  {
   "cell_type": "code",
   "execution_count": 3,
   "metadata": {},
   "outputs": [],
   "source": [
    "me_gbm = market_environment('me_gbm',dt.datetime(2015,1,1))"
   ]
  },
  {
   "cell_type": "markdown",
   "metadata": {},
   "source": [
    "**18-1**"
   ]
  },
  {
   "cell_type": "code",
   "execution_count": 4,
   "metadata": {},
   "outputs": [],
   "source": [
    "me_gbm.add_constant('initial_value',36.)\n",
    "me_gbm.add_constant('volatility',0.2)\n",
    "me_gbm.add_constant('currency','EUR')"
   ]
  },
  {
   "cell_type": "code",
   "execution_count": 5,
   "metadata": {},
   "outputs": [],
   "source": [
    "me_gbm.add_constant('model','gbm')"
   ]
  },
  {
   "cell_type": "code",
   "execution_count": 6,
   "metadata": {},
   "outputs": [],
   "source": [
    "me_am_put = market_environment('me_am_put',dt.datetime(2015,1,1))"
   ]
  },
  {
   "cell_type": "code",
   "execution_count": 7,
   "metadata": {},
   "outputs": [],
   "source": [
    "me_am_put.add_constant('maturity',dt.datetime(2015,12,31))\n",
    "me_am_put.add_constant('strike',40.)\n",
    "me_am_put.add_constant('currency','EUR')"
   ]
  },
  {
   "cell_type": "code",
   "execution_count": 8,
   "metadata": {},
   "outputs": [],
   "source": [
    "payoff_func = 'np.maximum(strike-instrument_values,0)'"
   ]
  },
  {
   "cell_type": "code",
   "execution_count": 9,
   "metadata": {},
   "outputs": [],
   "source": [
    "am_put_pos = derivatives_position(name = 'am_put_pos',quantity = 3, underlying='gbm',mar_env = me_am_put,otype = 'American',\n",
    "                                 payoff_func = payoff_func)"
   ]
  },
  {
   "cell_type": "code",
   "execution_count": 10,
   "metadata": {},
   "outputs": [],
   "source": [
    "models = {'gbm' : geometric_brownian_motion,\n",
    "        'jd' : jump_diffusion,\n",
    "        'srd': square_root_diffusion}\n",
    "otypes = {'European' : valuation_mcs_european,\n",
    "        'American' : valuation_mcs_american}"
   ]
  },
  {
   "cell_type": "code",
   "execution_count": 11,
   "metadata": {},
   "outputs": [],
   "source": [
    "me_jd = market_environment('me_jd', me_gbm.pricing_date)"
   ]
  },
  {
   "cell_type": "code",
   "execution_count": 12,
   "metadata": {},
   "outputs": [],
   "source": [
    "#점프 확산 모형 파라미터 추가\n",
    "me_jd.add_constant('lambda', 0.3)\n",
    "me_jd.add_constant('mu', -0.75)\n",
    "me_jd.add_constant('delta', 0.1)\n",
    "#GBM parameter 축가\n",
    "me_jd.add_environment(me_gbm)"
   ]
  },
  {
   "cell_type": "code",
   "execution_count": 13,
   "metadata": {},
   "outputs": [],
   "source": [
    "#포폴 가치평가에 필요\n",
    "me_jd.add_constant('model','jd')"
   ]
  },
  {
   "cell_type": "code",
   "execution_count": 14,
   "metadata": {},
   "outputs": [],
   "source": [
    "#유러피안 콜 옵션 생성\n",
    "me_eur_call = market_environment('me_eur_call', me_jd.pricing_date)"
   ]
  },
  {
   "cell_type": "code",
   "execution_count": 15,
   "metadata": {},
   "outputs": [],
   "source": [
    "me_eur_call.add_constant('maturity', dt.datetime(2015, 6, 30))\n",
    "me_eur_call.add_constant('strike', 38.)\n",
    "me_eur_call.add_constant('currency', 'EUR')"
   ]
  },
  {
   "cell_type": "code",
   "execution_count": 16,
   "metadata": {},
   "outputs": [],
   "source": [
    "payoff_func = 'np.maximum(maturity_value - strike,0)'"
   ]
  },
  {
   "cell_type": "code",
   "execution_count": 17,
   "metadata": {},
   "outputs": [],
   "source": [
    "eur_call_pos = derivatives_position(name = 'eur_call_pos',\n",
    "                                   quantity = 5,\n",
    "                                   underlying = 'jd',\n",
    "                                   mar_env = me_eur_call,\n",
    "                                   otype = 'European',\n",
    "                                   payoff_func = payoff_func)"
   ]
  },
  {
   "cell_type": "code",
   "execution_count": 18,
   "metadata": {},
   "outputs": [],
   "source": [
    "underlyings = {'gbm': me_gbm, 'jd' : me_jd}\n",
    "positions = {'am_put_pos' : am_put_pos, 'eur_call_pos' : eur_call_pos}"
   ]
  },
  {
   "cell_type": "code",
   "execution_count": 19,
   "metadata": {},
   "outputs": [],
   "source": [
    "#가치 평가를 위한 할인 객체\n",
    "csr = constant_short_rate('csr',0.06)"
   ]
  },
  {
   "cell_type": "code",
   "execution_count": 20,
   "metadata": {},
   "outputs": [],
   "source": [
    "val_env = market_environment('general',me_gbm.pricing_date)\n",
    "val_env.add_constant('frequency','W')\n",
    "    #주간 단위\n",
    "val_env.add_constant('paths', 25000)\n",
    "val_env.add_constant('starting_date', val_env.pricing_date)\n",
    "val_env.add_constant('final_date', val_env.pricing_date)\n",
    "    #일단 임시로 pricing_date 사용\n",
    "val_env.add_curve('discount_curve',csr)\n",
    "    #전체 포폴에 단일 할인 커브 사용"
   ]
  },
  {
   "cell_type": "code",
   "execution_count": 21,
   "metadata": {},
   "outputs": [],
   "source": [
    "portfolio = derivatives_portfolio(name = 'portfolio',\n",
    "                                 positions = positions,\n",
    "                                 val_env = val_env,\n",
    "                                 assets = underlyings,\n",
    "                                 fixed_seed = True)"
   ]
  },
  {
   "cell_type": "code",
   "execution_count": 22,
   "metadata": {},
   "outputs": [
    {
     "data": {
      "text/html": [
       "<div>\n",
       "<style scoped>\n",
       "    .dataframe tbody tr th:only-of-type {\n",
       "        vertical-align: middle;\n",
       "    }\n",
       "\n",
       "    .dataframe tbody tr th {\n",
       "        vertical-align: top;\n",
       "    }\n",
       "\n",
       "    .dataframe thead th {\n",
       "        text-align: right;\n",
       "    }\n",
       "</style>\n",
       "<table border=\"1\" class=\"dataframe\">\n",
       "  <thead>\n",
       "    <tr style=\"text-align: right;\">\n",
       "      <th></th>\n",
       "      <th>name</th>\n",
       "      <th>quant.</th>\n",
       "      <th>value</th>\n",
       "      <th>curr.</th>\n",
       "      <th>pos_value</th>\n",
       "      <th>pos_delta</th>\n",
       "      <th>pos_vega</th>\n",
       "    </tr>\n",
       "  </thead>\n",
       "  <tbody>\n",
       "    <tr>\n",
       "      <th>0</th>\n",
       "      <td>am_put_pos</td>\n",
       "      <td>3</td>\n",
       "      <td>4.613021</td>\n",
       "      <td>EUR</td>\n",
       "      <td>13.839063</td>\n",
       "      <td>-1.9161</td>\n",
       "      <td>39.7911</td>\n",
       "    </tr>\n",
       "    <tr>\n",
       "      <th>1</th>\n",
       "      <td>eur_call_pos</td>\n",
       "      <td>5</td>\n",
       "      <td>2.899164</td>\n",
       "      <td>EUR</td>\n",
       "      <td>14.495820</td>\n",
       "      <td>3.4615</td>\n",
       "      <td>44.0750</td>\n",
       "    </tr>\n",
       "  </tbody>\n",
       "</table>\n",
       "</div>"
      ],
      "text/plain": [
       "           name  quant.     value curr.  pos_value  pos_delta  pos_vega\n",
       "0    am_put_pos       3  4.613021   EUR  13.839063    -1.9161   39.7911\n",
       "1  eur_call_pos       5  2.899164   EUR  14.495820     3.4615   44.0750"
      ]
     },
     "execution_count": 22,
     "metadata": {},
     "output_type": "execute_result"
    }
   ],
   "source": [
    "portfolio.get_statistics()"
   ]
  },
  {
   "cell_type": "code",
   "execution_count": 23,
   "metadata": {},
   "outputs": [
    {
     "data": {
      "text/plain": [
       "pos_value    28.463127\n",
       "pos_delta     1.367500\n",
       "pos_vega     83.866100\n",
       "dtype: float64"
      ]
     },
     "execution_count": 23,
     "metadata": {},
     "output_type": "execute_result"
    }
   ],
   "source": [
    "portfolio.get_statistics()[['pos_value','pos_delta','pos_vega']].sum()\n",
    "    #모든 포지션에 대한 합계 계산"
   ]
  },
  {
   "cell_type": "code",
   "execution_count": 24,
   "metadata": {
    "scrolled": true
   },
   "outputs": [
    {
     "name": "stdout",
     "output_type": "stream",
     "text": [
      "\n",
      "--------------------------------------------------\n",
      "NAME\n",
      "am_put_pos \n",
      "\n",
      "QUANTITY\n",
      "3 \n",
      "\n",
      "UNDERLYING\n",
      "gbm \n",
      "\n",
      "MARKET ENVIRONMENT\n",
      "\n",
      "**Constants**\n",
      "maturity 2015-12-31 00:00:00\n",
      "strike 40.0\n",
      "currency EUR\n",
      "frequency W\n",
      "paths 25000\n",
      "starting_date 2015-01-01 00:00:00\n",
      "final_date 2015-12-31 00:00:00\n",
      "\n",
      "**Lists**\n",
      "time_grid [datetime.datetime(2015, 1, 1, 0, 0) datetime.datetime(2015, 1, 4, 0, 0)\n",
      " datetime.datetime(2015, 1, 11, 0, 0) datetime.datetime(2015, 1, 18, 0, 0)\n",
      " datetime.datetime(2015, 1, 25, 0, 0) datetime.datetime(2015, 2, 1, 0, 0)\n",
      " datetime.datetime(2015, 2, 8, 0, 0) datetime.datetime(2015, 2, 15, 0, 0)\n",
      " datetime.datetime(2015, 2, 22, 0, 0) datetime.datetime(2015, 3, 1, 0, 0)\n",
      " datetime.datetime(2015, 3, 8, 0, 0) datetime.datetime(2015, 3, 15, 0, 0)\n",
      " datetime.datetime(2015, 3, 22, 0, 0) datetime.datetime(2015, 3, 29, 0, 0)\n",
      " datetime.datetime(2015, 4, 5, 0, 0) datetime.datetime(2015, 4, 12, 0, 0)\n",
      " datetime.datetime(2015, 4, 19, 0, 0) datetime.datetime(2015, 4, 26, 0, 0)\n",
      " datetime.datetime(2015, 5, 3, 0, 0) datetime.datetime(2015, 5, 10, 0, 0)\n",
      " datetime.datetime(2015, 5, 17, 0, 0) datetime.datetime(2015, 5, 24, 0, 0)\n",
      " datetime.datetime(2015, 5, 31, 0, 0) datetime.datetime(2015, 6, 7, 0, 0)\n",
      " datetime.datetime(2015, 6, 14, 0, 0) datetime.datetime(2015, 6, 21, 0, 0)\n",
      " datetime.datetime(2015, 6, 28, 0, 0) datetime.datetime(2015, 6, 30, 0, 0)\n",
      " datetime.datetime(2015, 7, 5, 0, 0) datetime.datetime(2015, 7, 12, 0, 0)\n",
      " datetime.datetime(2015, 7, 19, 0, 0) datetime.datetime(2015, 7, 26, 0, 0)\n",
      " datetime.datetime(2015, 8, 2, 0, 0) datetime.datetime(2015, 8, 9, 0, 0)\n",
      " datetime.datetime(2015, 8, 16, 0, 0) datetime.datetime(2015, 8, 23, 0, 0)\n",
      " datetime.datetime(2015, 8, 30, 0, 0) datetime.datetime(2015, 9, 6, 0, 0)\n",
      " datetime.datetime(2015, 9, 13, 0, 0) datetime.datetime(2015, 9, 20, 0, 0)\n",
      " datetime.datetime(2015, 9, 27, 0, 0) datetime.datetime(2015, 10, 4, 0, 0)\n",
      " datetime.datetime(2015, 10, 11, 0, 0)\n",
      " datetime.datetime(2015, 10, 18, 0, 0)\n",
      " datetime.datetime(2015, 10, 25, 0, 0)\n",
      " datetime.datetime(2015, 11, 1, 0, 0) datetime.datetime(2015, 11, 8, 0, 0)\n",
      " datetime.datetime(2015, 11, 15, 0, 0)\n",
      " datetime.datetime(2015, 11, 22, 0, 0)\n",
      " datetime.datetime(2015, 11, 29, 0, 0)\n",
      " datetime.datetime(2015, 12, 6, 0, 0)\n",
      " datetime.datetime(2015, 12, 13, 0, 0)\n",
      " datetime.datetime(2015, 12, 20, 0, 0)\n",
      " datetime.datetime(2015, 12, 27, 0, 0)\n",
      " datetime.datetime(2015, 12, 31, 0, 0)]\n",
      "\n",
      "**Curves**\n",
      "discount_curve <constant_short_rate.constant_short_rate object at 0x00000209B5919B20>\n",
      "\n",
      "OPTION TYPE\n",
      "American \n",
      "\n",
      "PAYOFF FUNCTION\n",
      "np.maximum(strike-instrument_values,0)\n",
      "\n",
      "--------------------------------------------------\n",
      "\n",
      "--------------------------------------------------\n",
      "NAME\n",
      "eur_call_pos \n",
      "\n",
      "QUANTITY\n",
      "5 \n",
      "\n",
      "UNDERLYING\n",
      "jd \n",
      "\n",
      "MARKET ENVIRONMENT\n",
      "\n",
      "**Constants**\n",
      "maturity 2015-06-30 00:00:00\n",
      "strike 38.0\n",
      "currency EUR\n",
      "frequency W\n",
      "paths 25000\n",
      "starting_date 2015-01-01 00:00:00\n",
      "final_date 2015-12-31 00:00:00\n",
      "\n",
      "**Lists**\n",
      "time_grid [datetime.datetime(2015, 1, 1, 0, 0) datetime.datetime(2015, 1, 4, 0, 0)\n",
      " datetime.datetime(2015, 1, 11, 0, 0) datetime.datetime(2015, 1, 18, 0, 0)\n",
      " datetime.datetime(2015, 1, 25, 0, 0) datetime.datetime(2015, 2, 1, 0, 0)\n",
      " datetime.datetime(2015, 2, 8, 0, 0) datetime.datetime(2015, 2, 15, 0, 0)\n",
      " datetime.datetime(2015, 2, 22, 0, 0) datetime.datetime(2015, 3, 1, 0, 0)\n",
      " datetime.datetime(2015, 3, 8, 0, 0) datetime.datetime(2015, 3, 15, 0, 0)\n",
      " datetime.datetime(2015, 3, 22, 0, 0) datetime.datetime(2015, 3, 29, 0, 0)\n",
      " datetime.datetime(2015, 4, 5, 0, 0) datetime.datetime(2015, 4, 12, 0, 0)\n",
      " datetime.datetime(2015, 4, 19, 0, 0) datetime.datetime(2015, 4, 26, 0, 0)\n",
      " datetime.datetime(2015, 5, 3, 0, 0) datetime.datetime(2015, 5, 10, 0, 0)\n",
      " datetime.datetime(2015, 5, 17, 0, 0) datetime.datetime(2015, 5, 24, 0, 0)\n",
      " datetime.datetime(2015, 5, 31, 0, 0) datetime.datetime(2015, 6, 7, 0, 0)\n",
      " datetime.datetime(2015, 6, 14, 0, 0) datetime.datetime(2015, 6, 21, 0, 0)\n",
      " datetime.datetime(2015, 6, 28, 0, 0) datetime.datetime(2015, 6, 30, 0, 0)\n",
      " datetime.datetime(2015, 7, 5, 0, 0) datetime.datetime(2015, 7, 12, 0, 0)\n",
      " datetime.datetime(2015, 7, 19, 0, 0) datetime.datetime(2015, 7, 26, 0, 0)\n",
      " datetime.datetime(2015, 8, 2, 0, 0) datetime.datetime(2015, 8, 9, 0, 0)\n",
      " datetime.datetime(2015, 8, 16, 0, 0) datetime.datetime(2015, 8, 23, 0, 0)\n",
      " datetime.datetime(2015, 8, 30, 0, 0) datetime.datetime(2015, 9, 6, 0, 0)\n",
      " datetime.datetime(2015, 9, 13, 0, 0) datetime.datetime(2015, 9, 20, 0, 0)\n",
      " datetime.datetime(2015, 9, 27, 0, 0) datetime.datetime(2015, 10, 4, 0, 0)\n",
      " datetime.datetime(2015, 10, 11, 0, 0)\n",
      " datetime.datetime(2015, 10, 18, 0, 0)\n",
      " datetime.datetime(2015, 10, 25, 0, 0)\n",
      " datetime.datetime(2015, 11, 1, 0, 0) datetime.datetime(2015, 11, 8, 0, 0)\n",
      " datetime.datetime(2015, 11, 15, 0, 0)\n",
      " datetime.datetime(2015, 11, 22, 0, 0)\n",
      " datetime.datetime(2015, 11, 29, 0, 0)\n",
      " datetime.datetime(2015, 12, 6, 0, 0)\n",
      " datetime.datetime(2015, 12, 13, 0, 0)\n",
      " datetime.datetime(2015, 12, 20, 0, 0)\n",
      " datetime.datetime(2015, 12, 27, 0, 0)\n",
      " datetime.datetime(2015, 12, 31, 0, 0)]\n",
      "\n",
      "**Curves**\n",
      "discount_curve <constant_short_rate.constant_short_rate object at 0x00000209B5919B20>\n",
      "\n",
      "OPTION TYPE\n",
      "European \n",
      "\n",
      "PAYOFF FUNCTION\n",
      "np.maximum(maturity_value - strike,0)\n",
      "\n",
      "--------------------------------------------------\n"
     ]
    }
   ],
   "source": [
    "portfolio.get_positions() #보고서 목적용"
   ]
  },
  {
   "cell_type": "code",
   "execution_count": 25,
   "metadata": {},
   "outputs": [
    {
     "data": {
      "text/plain": [
       "(4.655769, 0.6693)"
      ]
     },
     "execution_count": 25,
     "metadata": {},
     "output_type": "execute_result"
    }
   ],
   "source": [
    "#derivatives_portfolio 객체 내 모든 객체를 직접 접근, 사용 가능\n",
    "portfolio.valuation_objects['am_put_pos'].present_value(),\\\n",
    "portfolio.valuation_objects['eur_call_pos'].delta()"
   ]
  },
  {
   "cell_type": "code",
   "execution_count": 26,
   "metadata": {},
   "outputs": [],
   "source": [
    "#위의 파생 포트폴리오는 상관관계 없다는 가정하에 이루어져있음.\n",
    "#시뮬레이션 경로를 통해 확인 가능\n",
    "path_no = 777\n",
    "path_gbm = portfolio.underlying_objects['gbm'].get_instrument_values()[:,path_no]\n",
    "path_jd = portfolio.underlying_objects['jd'].get_instrument_values()[:,path_no]"
   ]
  },
  {
   "cell_type": "code",
   "execution_count": 27,
   "metadata": {
    "scrolled": true
   },
   "outputs": [
    {
     "data": {
      "image/png": "[encoded data removed]",
      "text/plain": [
       "<Figure size 504x288 with 1 Axes>"
      ]
     },
     "metadata": {
      "needs_background": "light"
     },
     "output_type": "display_data"
    }
   ],
   "source": [
    "import matplotlib.pyplot as plt\n",
    "%matplotlib inline\n",
    "plt.figure(figsize=(7, 4))\n",
    "plt.plot(portfolio.time_grid, path_gbm, 'r', label='gbm')\n",
    "plt.plot(portfolio.time_grid, path_jd, 'b', label='jd')\n",
    "plt.xticks(rotation=30)\n",
    "plt.legend(loc=0); plt.grid(True)   "
   ]
  },
  {
   "cell_type": "code",
   "execution_count": 28,
   "metadata": {},
   "outputs": [],
   "source": [
    "correlations = [['gbm','jd',0.9]]"
   ]
  },
  {
   "cell_type": "code",
   "execution_count": 29,
   "metadata": {},
   "outputs": [],
   "source": [
    "port_corr = derivatives_portfolio(name = 'portfolio',\n",
    "                                 positions = positions,\n",
    "                                 val_env = val_env,\n",
    "                                 assets = underlyings,\n",
    "                                 correlations = correlations,\n",
    "                                 fixed_seed = True)"
   ]
  },
  {
   "cell_type": "code",
   "execution_count": 30,
   "metadata": {},
   "outputs": [
    {
     "data": {
      "text/html": [
       "<div>\n",
       "<style scoped>\n",
       "    .dataframe tbody tr th:only-of-type {\n",
       "        vertical-align: middle;\n",
       "    }\n",
       "\n",
       "    .dataframe tbody tr th {\n",
       "        vertical-align: top;\n",
       "    }\n",
       "\n",
       "    .dataframe thead th {\n",
       "        text-align: right;\n",
       "    }\n",
       "</style>\n",
       "<table border=\"1\" class=\"dataframe\">\n",
       "  <thead>\n",
       "    <tr style=\"text-align: right;\">\n",
       "      <th></th>\n",
       "      <th>name</th>\n",
       "      <th>quant.</th>\n",
       "      <th>value</th>\n",
       "      <th>curr.</th>\n",
       "      <th>pos_value</th>\n",
       "      <th>pos_delta</th>\n",
       "      <th>pos_vega</th>\n",
       "    </tr>\n",
       "  </thead>\n",
       "  <tbody>\n",
       "    <tr>\n",
       "      <th>0</th>\n",
       "      <td>am_put_pos</td>\n",
       "      <td>3</td>\n",
       "      <td>4.619792</td>\n",
       "      <td>EUR</td>\n",
       "      <td>13.859376</td>\n",
       "      <td>-1.9284</td>\n",
       "      <td>40.7187</td>\n",
       "    </tr>\n",
       "    <tr>\n",
       "      <th>1</th>\n",
       "      <td>eur_call_pos</td>\n",
       "      <td>5</td>\n",
       "      <td>2.888685</td>\n",
       "      <td>EUR</td>\n",
       "      <td>14.443425</td>\n",
       "      <td>3.4775</td>\n",
       "      <td>43.6220</td>\n",
       "    </tr>\n",
       "  </tbody>\n",
       "</table>\n",
       "</div>"
      ],
      "text/plain": [
       "           name  quant.     value curr.  pos_value  pos_delta  pos_vega\n",
       "0    am_put_pos       3  4.619792   EUR  13.859376    -1.9284   40.7187\n",
       "1  eur_call_pos       5  2.888685   EUR  14.443425     3.4775   43.6220"
      ]
     },
     "execution_count": 30,
     "metadata": {},
     "output_type": "execute_result"
    }
   ],
   "source": [
    "port_corr.get_statistics()"
   ]
  },
  {
   "cell_type": "code",
   "execution_count": 31,
   "metadata": {},
   "outputs": [],
   "source": [
    "path_gbm = port_corr.underlying_objects['gbm'].get_instrument_values()[:, path_no]\n",
    "path_jd = port_corr.underlying_objects['jd'].get_instrument_values()[:, path_no]"
   ]
  },
  {
   "cell_type": "code",
   "execution_count": 32,
   "metadata": {},
   "outputs": [
    {
     "data": {
      "image/png": "[encoded data removed]",
      "text/plain": [
       "<Figure size 504x288 with 1 Axes>"
      ]
     },
     "metadata": {
      "needs_background": "light"
     },
     "output_type": "display_data"
    }
   ],
   "source": [
    "plt.figure(figsize=(7, 4))\n",
    "plt.plot(portfolio.time_grid, path_gbm, 'r', label='gbm')\n",
    "plt.plot(portfolio.time_grid, path_jd, 'b', label='jd')\n",
    "plt.xticks(rotation=30)\n",
    "plt.legend(loc=0); plt.grid(True)"
   ]
  },
  {
   "cell_type": "markdown",
   "metadata": {},
   "source": [
    "각 옵션 포지션의 현재 가치 "
   ]
  },
  {
   "cell_type": "code",
   "execution_count": 33,
   "metadata": {},
   "outputs": [
    {
     "data": {
      "text/plain": [
       "array([ 0.        , 40.46758828, 24.54420555, ...,  0.        ,\n",
       "        6.5125118 ,  8.18851653])"
      ]
     },
     "execution_count": 33,
     "metadata": {},
     "output_type": "execute_result"
    }
   ],
   "source": [
    "pv1 = 5 * port_corr.valuation_objects['eur_call_pos'].present_value(full=True)[1]\n",
    "pv1"
   ]
  },
  {
   "cell_type": "code",
   "execution_count": 34,
   "metadata": {},
   "outputs": [
    {
     "data": {
      "text/plain": [
       "array([22.33631582, 12.1476107 , 20.33098087, ..., 22.01996731,\n",
       "       12.9969704 ,  0.        ])"
      ]
     },
     "execution_count": 34,
     "metadata": {},
     "output_type": "execute_result"
    }
   ],
   "source": [
    "pv2 = 3 * port_corr.valuation_objects['am_put_pos'].present_value(full=True)[1]\n",
    "pv2"
   ]
  },
  {
   "cell_type": "code",
   "execution_count": 35,
   "metadata": {},
   "outputs": [
    {
     "data": {
      "text/plain": [
       "<matplotlib.legend.Legend at 0x209bafda940>"
      ]
     },
     "execution_count": 35,
     "metadata": {},
     "output_type": "execute_result"
    },
    {
     "data": {
      "image/png": "[encoded data removed]",
      "text/plain": [
       "<Figure size 432x288 with 1 Axes>"
      ]
     },
     "metadata": {
      "needs_background": "light"
     },
     "output_type": "display_data"
    }
   ],
   "source": [
    "# 두 포지션 분포 비교\n",
    "plt.hist([pv1, pv2], bins=25,\n",
    "label=['European call', 'American put']);\n",
    "plt.axvline(pv1.mean(), color='r', ls='dashed',\n",
    "            lw=1.5, label='call mean = %4.2f' % pv1.mean())\n",
    "plt.axvline(pv2.mean(), color='r', ls='dotted',\n",
    "            lw=1.5, label='put mean = %4.2f' % pv2.mean())\n",
    "plt.xlim(0, 80); plt.ylim(0, 10000)\n",
    "plt.grid(); plt.legend()"
   ]
  },
  {
   "cell_type": "code",
   "execution_count": 36,
   "metadata": {},
   "outputs": [
    {
     "data": {
      "text/plain": [
       "<matplotlib.legend.Legend at 0x209baeff790>"
      ]
     },
     "execution_count": 36,
     "metadata": {},
     "output_type": "execute_result"
    },
    {
     "data": {
      "image/png": "[encoded data removed]",
      "text/plain": [
       "<Figure size 432x288 with 1 Axes>"
      ]
     },
     "metadata": {
      "needs_background": "light"
     },
     "output_type": "display_data"
    }
   ],
   "source": [
    "#포폴 현재가치 분포\n",
    "pvs = pv1 + pv2\n",
    "plt.hist(pvs, bins=50, label='portfolio');\n",
    "plt.axvline(pvs.mean(), color='r', ls='dashed',\n",
    "            lw=1.5, label='mean = %4.2f' % pvs.mean())\n",
    "plt.xlim(0, 80); plt.ylim(0, 7000)\n",
    "plt.grid(); plt.legend()"
   ]
  },
  {
   "cell_type": "code",
   "execution_count": 37,
   "metadata": {},
   "outputs": [],
   "source": [
    "#> call + put되어서 서로 상쇄된 것을 볼 수 있음."
   ]
  },
  {
   "cell_type": "code",
   "execution_count": 38,
   "metadata": {},
   "outputs": [
    {
     "data": {
      "text/plain": [
       "16.958325400506318"
      ]
     },
     "execution_count": 38,
     "metadata": {},
     "output_type": "execute_result"
    }
   ],
   "source": [
    "pvs.std() #상관관계 있는 포폴 편차"
   ]
  },
  {
   "cell_type": "code",
   "execution_count": 39,
   "metadata": {},
   "outputs": [
    {
     "data": {
      "text/plain": [
       "22.862366370089898"
      ]
     },
     "execution_count": 39,
     "metadata": {},
     "output_type": "execute_result"
    }
   ],
   "source": [
    "#상관관계 없는 포폴 편차\n",
    "pv1 = 5 * portfolio.valuation_objects['eur_call_pos'].present_value(full=True)[1]\n",
    "pv2 = 3 * portfolio.valuation_objects['am_put_pos'].present_value(full=True)[1]\n",
    "(pv1 + pv2).std()"
   ]
  },
  {
   "cell_type": "code",
   "execution_count": null,
   "metadata": {},
   "outputs": [],
   "source": []
  }
 ],
 "metadata": {
  "kernelspec": {
   "display_name": "Python 3",
   "language": "python",
   "name": "python3"
  },
  "language_info": {
   "codemirror_mode": {
    "name": "ipython",
    "version": 3
   },
   "file_extension": ".py",
   "mimetype": "text/x-python",
   "name": "python",
   "nbconvert_exporter": "python",
   "pygments_lexer": "ipython3",
   "version": "3.8.3"
  }
 },
 "nbformat": 4,
 "nbformat_minor": 4
}
