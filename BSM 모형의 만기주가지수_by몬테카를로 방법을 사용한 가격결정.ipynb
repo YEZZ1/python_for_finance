{
 "cells": [
  {
   "cell_type": "code",
   "execution_count": 6,
   "metadata": {},
   "outputs": [],
   "source": [
    "s0 = 100\n",
    "k = 105\n",
    "t = 1\n",
    "rf = 0.05\n",
    "sig = 0.2"
   ]
  },
  {
   "cell_type": "code",
   "execution_count": 7,
   "metadata": {},
   "outputs": [],
   "source": [
    "from numpy import *"
   ]
  },
  {
   "cell_type": "code",
   "execution_count": 12,
   "metadata": {},
   "outputs": [],
   "source": [
    "I = 100000\n",
    "\n",
    "z = random.standard_normal(I)\n",
    "St = s0*exp((rf-sig**2/2)*t+sig*sqrt(t)*z) #t일 후 주가\n",
    "hT = maximum(St-k,0)\n",
    "Co = exp(-rf*t)*sum(hT)/I #call option 가격 "
   ]
  },
  {
   "cell_type": "code",
   "execution_count": 13,
   "metadata": {},
   "outputs": [
    {
     "name": "stdout",
     "output_type": "stream",
     "text": [
      "value of the european call option 8.059\n"
     ]
    }
   ],
   "source": [
    "print('value of the european call option %5.3f'%Co)"
   ]
  },
  {
   "cell_type": "code",
   "execution_count": null,
   "metadata": {},
   "outputs": [],
   "source": []
  }
 ],
 "metadata": {
  "kernelspec": {
   "display_name": "Python 3",
   "language": "python",
   "name": "python3"
  },
  "language_info": {
   "codemirror_mode": {
    "name": "ipython",
    "version": 3
   },
   "file_extension": ".py",
   "mimetype": "text/x-python",
   "name": "python",
   "nbconvert_exporter": "python",
   "pygments_lexer": "ipython3",
   "version": "3.8.3"
  }
 },
 "nbformat": 4,
 "nbformat_minor": 4
}
